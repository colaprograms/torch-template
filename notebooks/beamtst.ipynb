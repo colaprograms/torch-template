{
 "cells": [
  {
   "cell_type": "markdown",
   "metadata": {
    "colab_type": "text",
    "id": "view-in-github"
   },
   "source": [
    "<a href=\"https://colab.research.google.com/github/colaprograms/2019-hackathon-ocr-wymbah/blob/master/notebooks/beamtst.ipynb\" target=\"_parent\"><img src=\"https://colab.research.google.com/assets/colab-badge.svg\" alt=\"Open In Colab\"/></a>"
   ]
  },
  {
   "cell_type": "markdown",
   "metadata": {
    "colab_type": "text",
    "id": "c0PIDXiXgbx9"
   },
   "source": [
    "This notebook gives you some examples of how to use the model, like:\n",
    "\n",
    "* testing its accuracy on the holdout set.\n",
    "* running the model on an image file."
   ]
  },
  {
   "cell_type": "code",
   "execution_count": 37,
   "metadata": {
    "colab": {
     "base_uri": "https://localhost:8080/",
     "height": 249
    },
    "colab_type": "code",
    "id": "75tMRsd5gbyD",
    "outputId": "61e3c899-517f-4f6c-d0f7-d6f9c5649aba"
   },
   "outputs": [
    {
     "name": "stdout",
     "output_type": "stream",
     "text": [
      "We're on Jupyter!\n",
      "Reloading util.file\n",
      "Using images in ../AI4Good---Meza-OCR-Challenge\n",
      "Reloading util.chars\n",
      "Reloading nets.ctcnet\n",
      "Reloading util.beam\n",
      "Reloading util.beamtest\n"
     ]
    }
   ],
   "source": [
    "import torch, os\n",
    "import numpy as np\n",
    "from importlib import reload\n",
    "\n",
    "USERNAME = \"colaprograms\"\n",
    "REPOSITORY = \"torch-template\"\n",
    "\n",
    "if os.path.exists(\"/content\"):\n",
    "    print(\"We're on Google Colab!\")\n",
    "    os.chdir(\"/content\")\n",
    "    #if not os.path.exists(\"/content/AI4Good---Meza-OCR-Challenge\"):\n",
    "    #  !git clone https://github.com/Charitable-Analytics-International/AI4Good---Meza-OCR-Challenge\n",
    "    if not os.path.exists(f\"/content/{REPOSITORY}\"):\n",
    "      !git clone https://github.com/{USERNAME}/{REPOSITORY}\n",
    "    os.chdir(f\"/content/{REPOSITORY}\")\n",
    "    !git pull\n",
    "else:\n",
    "    print(\"We're on Jupyter!\")\n",
    "    if os.path.exists(\"../notebooks\"):\n",
    "        os.chdir(\"..\")\n",
    "\n",
    "modules_to_reload = [\n",
    "    \"util.file\",\n",
    "    \"util.chars\",\n",
    "    \"nets.ctcnet\",\n",
    "    \"util.beam\",\n",
    "    \"util.beamtest\"\n",
    "]\n",
    "\n",
    "from importlib import import_module, reload\n",
    "for module in modules_to_reload:\n",
    "    print(\"Reloading %s\" % module)\n",
    "    reload(import_module(module))\n",
    "\n",
    "import nets.ctcnet, util.file, util.chars, util.beam, util.beamtest\n",
    "\n",
    "from nets.ctcnet import *\n",
    "from util.beam import BeamSearch\n",
    "from util.file import FileHolder, file_list_to_tensor\n",
    "from util.chars import chars, nchars, idx\n",
    "\n",
    "fh = FileHolder()"
   ]
  },
  {
   "cell_type": "code",
   "execution_count": 43,
   "metadata": {
    "colab": {
     "base_uri": "https://localhost:8080/",
     "height": 782
    },
    "colab_type": "code",
    "id": "lRPuDR3zgbyV",
    "outputId": "7c4345ea-0b41-43f7-c9f0-3707bbe305e8"
   },
   "outputs": [
    {
     "name": "stdout",
     "output_type": "stream",
     "text": [
      "We try to decode a few images from the validation set.\n",
      "*** Using checkpoint 0: checkpoint-0049-0.49-CTCModel\n",
      "Guess: 95.6\n",
      "Top 3 guesses:\n",
      "    95.6 (probability = 0.9799)\n",
      "    93.6 (probability = 0.0064)\n",
      "    85.6 (probability = 0.0045)\n",
      "Image:\n"
     ]
    },
    {
     "data": {
      "image/png": "[encoded data removed]",
      "text/plain": [
       "<Figure size 432x288 with 1 Axes>"
      ]
     },
     "metadata": {
      "needs_background": "light"
     },
     "output_type": "display_data"
    },
    {
     "name": "stdout",
     "output_type": "stream",
     "text": [
      "*** Using checkpoint 1: checkpoint-0046-0.43-CTCModel\n",
      "Guess: 95.6\n",
      "Top 3 guesses:\n",
      "    95.6 (probability = 0.9922)\n",
      "    95,6 (probability = 0.0054)\n",
      "    956 (probability = 0.0020)\n",
      "Image:\n"
     ]
    },
    {
     "data": {
      "image/png": "[encoded data removed]",
      "text/plain": [
       "<Figure size 432x288 with 1 Axes>"
      ]
     },
     "metadata": {
      "needs_background": "light"
     },
     "output_type": "display_data"
    },
    {
     "name": "stdout",
     "output_type": "stream",
     "text": [
      "*** Using checkpoint 2: checkpoint-0079-0.42-CTCModel\n",
      "Guess: 95.6\n",
      "Top 3 guesses:\n",
      "    95.6 (probability = 0.9926)\n",
      "    95,6 (probability = 0.0033)\n",
      "    85.6 (probability = 0.0028)\n",
      "Image:\n"
     ]
    },
    {
     "data": {
      "image/png": "[encoded data removed]",
      "text/plain": [
       "<Figure size 432x288 with 1 Axes>"
      ]
     },
     "metadata": {
      "needs_background": "light"
     },
     "output_type": "display_data"
    },
    {
     "name": "stdout",
     "output_type": "stream",
     "text": [
      "That worked great!\n"
     ]
    }
   ],
   "source": [
    "print(\"We try to decode a few images from the validation set.\")\n",
    "\n",
    "def decode_one_image(test, filename):\n",
    "    inputs, answer = test.classify_files([filename])\n",
    "    print(\"Guess:\", answer[0].str())\n",
    "    print(\"Top 3 guesses:\")\n",
    "    for z in answer[:3]:\n",
    "        print(\"    %s (probability = %.4f)\" % (z.str(), np.exp(z.p)))\n",
    "    print(\"Image:\")\n",
    "    util.beamtest.show(inputs[0, :, :, :])\n",
    "\n",
    "from util.beamtest import Test, CHECKPOINTS\n",
    "print(\"*** Using checkpoint 0:\", CHECKPOINTS[0])\n",
    "t1 = Test(CHECKPOINTS[0], True)\n",
    "decode_one_image(t1, \"images/cell_images/validation_set/291.jpg\")\n",
    "\n",
    "print(\"*** Using checkpoint 1:\", CHECKPOINTS[1])\n",
    "t2 = Test(CHECKPOINTS[1], True)\n",
    "decode_one_image(t2, \"images/cell_images/validation_set/291.jpg\")\n",
    "\n",
    "print(\"*** Using checkpoint 2:\", CHECKPOINTS[2])\n",
    "t3 = Test(CHECKPOINTS[2], True)\n",
    "decode_one_image(t3, \"images/cell_images/validation_set/291.jpg\")\n",
    "print(\"That worked great!\")"
   ]
  },
  {
   "cell_type": "code",
   "execution_count": 31,
   "metadata": {
    "colab": {
     "base_uri": "https://localhost:8080/",
     "height": 907
    },
    "colab_type": "code",
    "id": "kgAh_944gbyj",
    "outputId": "9eb2fe63-3f5d-477f-bcdb-60265d84537b"
   },
   "outputs": [
    {
     "name": "stderr",
     "output_type": "stream",
     "text": [
      "Clipping input data to the valid range for imshow with RGB data ([0..1] for floats or [0..255] for integers).\n"
     ]
    },
    {
     "name": "stdout",
     "output_type": "stream",
     "text": [
      "Let's try it again!\n",
      "*** Using checkpoint 0: checkpoint-0049-0.49-CTCModel\n",
      "Guess: 1.95\n",
      "Top 3 guesses:\n",
      "    1.95 (probability = 0.7949)\n",
      "    11.95 (probability = 0.0988)\n",
      "    195 (probability = 0.0357)\n",
      "Image:\n"
     ]
    },
    {
     "data": {
      "image/png": "[encoded data removed]",
      "text/plain": [
       "<Figure size 432x288 with 1 Axes>"
      ]
     },
     "metadata": {
      "needs_background": "light"
     },
     "output_type": "display_data"
    },
    {
     "name": "stderr",
     "output_type": "stream",
     "text": [
      "Clipping input data to the valid range for imshow with RGB data ([0..1] for floats or [0..255] for integers).\n"
     ]
    },
    {
     "name": "stdout",
     "output_type": "stream",
     "text": [
      "*** Using checkpoint 1: checkpoint-0046-0.43-CTCModel\n",
      "Guess: 195\n",
      "Top 3 guesses:\n",
      "    195 (probability = 0.9939)\n",
      "    19,5 (probability = 0.0010)\n",
      "    19.5 (probability = 0.0005)\n",
      "Image:\n"
     ]
    },
    {
     "data": {
      "image/png": "[encoded data removed]",
      "text/plain": [
       "<Figure size 432x288 with 1 Axes>"
      ]
     },
     "metadata": {
      "needs_background": "light"
     },
     "output_type": "display_data"
    },
    {
     "name": "stderr",
     "output_type": "stream",
     "text": [
      "Clipping input data to the valid range for imshow with RGB data ([0..1] for floats or [0..255] for integers).\n"
     ]
    },
    {
     "name": "stdout",
     "output_type": "stream",
     "text": [
      "*** Using checkpoint 2: checkpoint-0079-0.42-CTCModel\n",
      "Guess: 195\n",
      "Top 3 guesses:\n",
      "    195 (probability = 0.9035)\n",
      "    1.95 (probability = 0.0873)\n",
      "    1295 (probability = 0.0062)\n",
      "Image:\n"
     ]
    },
    {
     "data": {
      "image/png": "[encoded data removed]",
      "text/plain": [
       "<Figure size 432x288 with 1 Axes>"
      ]
     },
     "metadata": {
      "needs_background": "light"
     },
     "output_type": "display_data"
    },
    {
     "name": "stdout",
     "output_type": "stream",
     "text": [
      "That did not go so well. Oh well, those are the breaks.\n",
      "\n",
      "This is a hint that we shouldn't take the probabilities too seriously,\n",
      "since the first model predicted 1.95 with probability 0.79, and\n",
      "the second one predicted 195 with probability 0.99.\n"
     ]
    }
   ],
   "source": [
    "print(\"Let's try it again!\")\n",
    "print(\"*** Using checkpoint 0:\", CHECKPOINTS[0])\n",
    "decode_one_image(t1, \"images/cell_images/validation_set/296.jpg\")\n",
    "print(\"*** Using checkpoint 1:\", CHECKPOINTS[1])\n",
    "decode_one_image(t2, \"images/cell_images/validation_set/296.jpg\")\n",
    "print(\"*** Using checkpoint 2:\", CHECKPOINTS[2])\n",
    "decode_one_image(t3, \"images/cell_images/validation_set/296.jpg\")\n",
    "print(\"That did not go so well. Oh well, those are the breaks.\")\n",
    "print()\n",
    "print(\"This is a hint that we shouldn't take the probabilities too seriously,\")\n",
    "print(\"since the first model predicted 1.95 with probability 0.79, and\")\n",
    "print(\"the second one predicted 195 with probability 0.99.\")"
   ]
  },
  {
   "cell_type": "code",
   "execution_count": 23,
   "metadata": {
    "colab": {
     "base_uri": "https://localhost:8080/",
     "height": 910
    },
    "colab_type": "code",
    "id": "ZyJeyzYWgbyy",
    "outputId": "651360bf-eb6e-4059-f103-6527e180a700"
   },
   "outputs": [
    {
     "name": "stdout",
     "output_type": "stream",
     "text": [
      "Testing the checkpoints on our holdout set.\n",
      "(This is probably too optimistic since we used the holdout set to choose these checkpoints.)\n",
      "\n",
      "Checkpoint 0: checkpoint-0049-0.49-CTCModel\n",
      "Testing 750 images\n"
     ]
    },
    {
     "ename": "KeyboardInterrupt",
     "evalue": "",
     "output_type": "error",
     "traceback": [
      "\u001b[0;31m---------------------------------------------------------------------------\u001b[0m",
      "\u001b[0;31mKeyboardInterrupt\u001b[0m                         Traceback (most recent call last)",
      "\u001b[0;32m<ipython-input-23-cd3d7b7fa7fa>\u001b[0m in \u001b[0;36m<module>\u001b[0;34m\u001b[0m\n\u001b[1;32m      4\u001b[0m \u001b[0;34m\u001b[0m\u001b[0m\n\u001b[1;32m      5\u001b[0m \u001b[0mprint\u001b[0m\u001b[0;34m(\u001b[0m\u001b[0;34m\"Checkpoint 0:\"\u001b[0m\u001b[0;34m,\u001b[0m \u001b[0mutil\u001b[0m\u001b[0;34m.\u001b[0m\u001b[0mbeamtest\u001b[0m\u001b[0;34m.\u001b[0m\u001b[0mCHECKPOINTS\u001b[0m\u001b[0;34m[\u001b[0m\u001b[0;36m0\u001b[0m\u001b[0;34m]\u001b[0m\u001b[0;34m)\u001b[0m\u001b[0;34m\u001b[0m\u001b[0;34m\u001b[0m\u001b[0m\n\u001b[0;32m----> 6\u001b[0;31m \u001b[0mresult\u001b[0m \u001b[0;34m=\u001b[0m \u001b[0mutil\u001b[0m\u001b[0;34m.\u001b[0m\u001b[0mbeamtest\u001b[0m\u001b[0;34m.\u001b[0m\u001b[0mtest\u001b[0m\u001b[0;34m(\u001b[0m\u001b[0mutil\u001b[0m\u001b[0;34m.\u001b[0m\u001b[0mbeamtest\u001b[0m\u001b[0;34m.\u001b[0m\u001b[0mCHECKPOINTS\u001b[0m\u001b[0;34m[\u001b[0m\u001b[0;36m0\u001b[0m\u001b[0;34m]\u001b[0m\u001b[0;34m,\u001b[0m \u001b[0mquiet\u001b[0m\u001b[0;34m=\u001b[0m\u001b[0;32mTrue\u001b[0m\u001b[0;34m)\u001b[0m\u001b[0;34m\u001b[0m\u001b[0;34m\u001b[0m\u001b[0m\n\u001b[0m\u001b[1;32m      7\u001b[0m \u001b[0mprint\u001b[0m\u001b[0;34m(\u001b[0m\u001b[0mresult\u001b[0m\u001b[0;34m)\u001b[0m\u001b[0;34m\u001b[0m\u001b[0;34m\u001b[0m\u001b[0m\n\u001b[1;32m      8\u001b[0m \u001b[0mprint\u001b[0m\u001b[0;34m(\u001b[0m\u001b[0;34m)\u001b[0m\u001b[0;34m\u001b[0m\u001b[0;34m\u001b[0m\u001b[0m\n",
      "\u001b[0;32m/home/gibson/sdb2/cola/ass/balls/template/util/beamtest.py\u001b[0m in \u001b[0;36mtest\u001b[0;34m(checkpoint, quiet)\u001b[0m\n\u001b[1;32m     80\u001b[0m         \u001b[0mprint\u001b[0m\u001b[0;34m(\u001b[0m\u001b[0;34m\"Answer:\"\u001b[0m\u001b[0;34m,\u001b[0m \u001b[0manswer\u001b[0m\u001b[0;34m[\u001b[0m\u001b[0;36m0\u001b[0m\u001b[0;34m]\u001b[0m\u001b[0;34m.\u001b[0m\u001b[0mstr\u001b[0m\u001b[0;34m(\u001b[0m\u001b[0;34m)\u001b[0m\u001b[0;34m)\u001b[0m\u001b[0;34m\u001b[0m\u001b[0;34m\u001b[0m\u001b[0m\n\u001b[1;32m     81\u001b[0m         \u001b[0mprint\u001b[0m\u001b[0;34m(\u001b[0m\u001b[0;34m\"Top 3 guesses:\"\u001b[0m\u001b[0;34m,\u001b[0m \u001b[0;34m[\u001b[0m\u001b[0mstr\u001b[0m\u001b[0;34m(\u001b[0m\u001b[0mz\u001b[0m\u001b[0;34m)\u001b[0m \u001b[0;32mfor\u001b[0m \u001b[0mz\u001b[0m \u001b[0;32min\u001b[0m \u001b[0manswer\u001b[0m\u001b[0;34m[\u001b[0m\u001b[0;34m:\u001b[0m\u001b[0;36m3\u001b[0m\u001b[0;34m]\u001b[0m\u001b[0;34m]\u001b[0m\u001b[0;34m)\u001b[0m\u001b[0;34m\u001b[0m\u001b[0;34m\u001b[0m\u001b[0m\n\u001b[0;32m---> 82\u001b[0;31m         \u001b[0mprint\u001b[0m\u001b[0;34m(\u001b[0m\u001b[0;34m\"Image:\"\u001b[0m\u001b[0;34m)\u001b[0m\u001b[0;34m\u001b[0m\u001b[0;34m\u001b[0m\u001b[0m\n\u001b[0m\u001b[1;32m     83\u001b[0m         \u001b[0mshow\u001b[0m\u001b[0;34m(\u001b[0m\u001b[0minputs\u001b[0m\u001b[0;34m[\u001b[0m\u001b[0;36m0\u001b[0m\u001b[0;34m,\u001b[0m \u001b[0;34m:\u001b[0m\u001b[0;34m,\u001b[0m \u001b[0;34m:\u001b[0m\u001b[0;34m,\u001b[0m \u001b[0;34m:\u001b[0m\u001b[0;34m]\u001b[0m\u001b[0;34m)\u001b[0m\u001b[0;34m\u001b[0m\u001b[0;34m\u001b[0m\u001b[0m\n\u001b[1;32m     84\u001b[0m \u001b[0;34m\u001b[0m\u001b[0m\n",
      "\u001b[0;32m/home/gibson/sdb2/cola/ass/balls/template/util/beamtest.py\u001b[0m in \u001b[0;36mtest\u001b[0;34m(self)\u001b[0m\n\u001b[1;32m     43\u001b[0m         \u001b[0mprint\u001b[0m\u001b[0;34m(\u001b[0m\u001b[0;34m\"Testing\"\u001b[0m\u001b[0;34m,\u001b[0m \u001b[0mnimages\u001b[0m\u001b[0;34m,\u001b[0m \u001b[0;34m\"images\"\u001b[0m\u001b[0;34m)\u001b[0m\u001b[0;34m\u001b[0m\u001b[0;34m\u001b[0m\u001b[0m\n\u001b[1;32m     44\u001b[0m         \u001b[0mBATCHSIZE\u001b[0m \u001b[0;34m=\u001b[0m \u001b[0;36m64\u001b[0m\u001b[0;34m\u001b[0m\u001b[0;34m\u001b[0m\u001b[0m\n\u001b[0;32m---> 45\u001b[0;31m         \u001b[0;32mfor\u001b[0m \u001b[0mj\u001b[0m \u001b[0;32min\u001b[0m \u001b[0mrange\u001b[0m\u001b[0;34m(\u001b[0m\u001b[0;36m0\u001b[0m\u001b[0;34m,\u001b[0m \u001b[0mnimages\u001b[0m\u001b[0;34m,\u001b[0m \u001b[0mBATCHSIZE\u001b[0m\u001b[0;34m)\u001b[0m\u001b[0;34m:\u001b[0m\u001b[0;34m\u001b[0m\u001b[0;34m\u001b[0m\u001b[0m\n\u001b[0m\u001b[1;32m     46\u001b[0m             \u001b[0mpaths\u001b[0m \u001b[0;34m=\u001b[0m \u001b[0;34m[\u001b[0m\u001b[0;34m]\u001b[0m\u001b[0;34m\u001b[0m\u001b[0;34m\u001b[0m\u001b[0m\n\u001b[1;32m     47\u001b[0m             \u001b[0moutputs\u001b[0m \u001b[0;34m=\u001b[0m \u001b[0;34m[\u001b[0m\u001b[0;34m]\u001b[0m\u001b[0;34m\u001b[0m\u001b[0;34m\u001b[0m\u001b[0m\n",
      "\u001b[0;32m/home/gibson/sdb2/cola/ass/balls/template/util/beam.py\u001b[0m in \u001b[0;36mbeamsearcher\u001b[0;34m(logits, nbeams)\u001b[0m\n\u001b[1;32m    105\u001b[0m     \u001b[0mbeas\u001b[0m \u001b[0;34m=\u001b[0m \u001b[0mBeamSearch\u001b[0m\u001b[0;34m(\u001b[0m\u001b[0mnbeams\u001b[0m\u001b[0;34m)\u001b[0m\u001b[0;34m\u001b[0m\u001b[0;34m\u001b[0m\u001b[0m\n\u001b[1;32m    106\u001b[0m     \u001b[0;32mfor\u001b[0m \u001b[0mj\u001b[0m \u001b[0;32min\u001b[0m \u001b[0mrange\u001b[0m\u001b[0;34m(\u001b[0m\u001b[0mlogits\u001b[0m\u001b[0;34m.\u001b[0m\u001b[0mshape\u001b[0m\u001b[0;34m[\u001b[0m\u001b[0;36m0\u001b[0m\u001b[0;34m]\u001b[0m\u001b[0;34m)\u001b[0m\u001b[0;34m:\u001b[0m\u001b[0;34m\u001b[0m\u001b[0;34m\u001b[0m\u001b[0m\n\u001b[0;32m--> 107\u001b[0;31m         \u001b[0mbeas\u001b[0m\u001b[0;34m.\u001b[0m\u001b[0madd_logit\u001b[0m\u001b[0;34m(\u001b[0m\u001b[0mlogits\u001b[0m\u001b[0;34m[\u001b[0m\u001b[0mj\u001b[0m\u001b[0;34m,\u001b[0m \u001b[0;34m:\u001b[0m\u001b[0;34m]\u001b[0m\u001b[0;34m)\u001b[0m\u001b[0;34m\u001b[0m\u001b[0;34m\u001b[0m\u001b[0m\n\u001b[0m\u001b[1;32m    108\u001b[0m     \u001b[0;32mreturn\u001b[0m \u001b[0mbeas\u001b[0m\u001b[0;34m.\u001b[0m\u001b[0mresult\u001b[0m\u001b[0;34m(\u001b[0m\u001b[0;34m)\u001b[0m\u001b[0;34m\u001b[0m\u001b[0;34m\u001b[0m\u001b[0m\n",
      "\u001b[0;32m/home/gibson/sdb2/cola/ass/balls/template/util/beam.py\u001b[0m in \u001b[0;36madd_logit\u001b[0;34m(self, p)\u001b[0m\n\u001b[1;32m     59\u001b[0m                 \u001b[0mself\u001b[0m\u001b[0;34m.\u001b[0m\u001b[0mbeam\u001b[0m\u001b[0;34m(\u001b[0m\u001b[0mprefix\u001b[0m\u001b[0;34m)\u001b[0m \u001b[0;34m<<\u001b[0m \u001b[0mP\u001b[0m\u001b[0;34m[\u001b[0m\u001b[0;36m0\u001b[0m\u001b[0;34m]\u001b[0m\u001b[0;34m\u001b[0m\u001b[0;34m\u001b[0m\u001b[0m\n\u001b[1;32m     60\u001b[0m                 \u001b[0;32mfor\u001b[0m \u001b[0mi\u001b[0m \u001b[0;32min\u001b[0m \u001b[0mrange\u001b[0m\u001b[0;34m(\u001b[0m\u001b[0;36m1\u001b[0m\u001b[0;34m,\u001b[0m \u001b[0mnchars\u001b[0m\u001b[0;34m)\u001b[0m\u001b[0;34m:\u001b[0m\u001b[0;34m\u001b[0m\u001b[0;34m\u001b[0m\u001b[0m\n\u001b[0;32m---> 61\u001b[0;31m                     \u001b[0mself\u001b[0m\u001b[0;34m.\u001b[0m\u001b[0mbeam\u001b[0m\u001b[0;34m(\u001b[0m\u001b[0mprefix\u001b[0m\u001b[0;34m[\u001b[0m\u001b[0;34m:\u001b[0m\u001b[0;34m-\u001b[0m\u001b[0;36m1\u001b[0m\u001b[0;34m]\u001b[0m \u001b[0;34m+\u001b[0m \u001b[0;34m(\u001b[0m\u001b[0mi\u001b[0m\u001b[0;34m,\u001b[0m\u001b[0;34m)\u001b[0m\u001b[0;34m)\u001b[0m \u001b[0;34m<<\u001b[0m \u001b[0mP\u001b[0m\u001b[0;34m[\u001b[0m\u001b[0mi\u001b[0m\u001b[0;34m]\u001b[0m\u001b[0;34m\u001b[0m\u001b[0;34m\u001b[0m\u001b[0m\n\u001b[0m\u001b[1;32m     62\u001b[0m             \u001b[0;32melse\u001b[0m\u001b[0;34m:\u001b[0m\u001b[0;34m\u001b[0m\u001b[0;34m\u001b[0m\u001b[0m\n\u001b[1;32m     63\u001b[0m                 \u001b[0;34m\"The prefix ends with a nonblank symbol.\"\u001b[0m\u001b[0;34m\u001b[0m\u001b[0;34m\u001b[0m\u001b[0m\n",
      "\u001b[0;32m/home/gibson/sdb2/cola/ass/balls/template/util/beam.py\u001b[0m in \u001b[0;36m__lshift__\u001b[0;34m(self, p)\u001b[0m\n\u001b[1;32m     34\u001b[0m \u001b[0;34m\u001b[0m\u001b[0m\n\u001b[1;32m     35\u001b[0m     \u001b[0;32mdef\u001b[0m \u001b[0m__lshift__\u001b[0m\u001b[0;34m(\u001b[0m\u001b[0mself\u001b[0m\u001b[0;34m,\u001b[0m \u001b[0mp\u001b[0m\u001b[0;34m)\u001b[0m\u001b[0;34m:\u001b[0m\u001b[0;34m\u001b[0m\u001b[0;34m\u001b[0m\u001b[0m\n\u001b[0;32m---> 36\u001b[0;31m         \u001b[0mself\u001b[0m\u001b[0;34m.\u001b[0m\u001b[0mp\u001b[0m \u001b[0;34m=\u001b[0m \u001b[0mlae\u001b[0m\u001b[0;34m(\u001b[0m\u001b[0mself\u001b[0m\u001b[0;34m.\u001b[0m\u001b[0mp\u001b[0m\u001b[0;34m,\u001b[0m \u001b[0mp\u001b[0m\u001b[0;34m)\u001b[0m\u001b[0;34m\u001b[0m\u001b[0;34m\u001b[0m\u001b[0m\n\u001b[0m\u001b[1;32m     37\u001b[0m \u001b[0;34m\u001b[0m\u001b[0m\n\u001b[1;32m     38\u001b[0m     \u001b[0;32mdef\u001b[0m \u001b[0mstr\u001b[0m\u001b[0;34m(\u001b[0m\u001b[0mself\u001b[0m\u001b[0;34m)\u001b[0m\u001b[0;34m:\u001b[0m\u001b[0;34m\u001b[0m\u001b[0;34m\u001b[0m\u001b[0m\n",
      "\u001b[0;32m/home/gibson/sdb2/cola/ass/balls/template/util/beam.py\u001b[0m in \u001b[0;36mlae\u001b[0;34m(*z)\u001b[0m\n\u001b[1;32m     11\u001b[0m     \u001b[0mz\u001b[0m \u001b[0;34m=\u001b[0m \u001b[0mnp\u001b[0m\u001b[0;34m.\u001b[0m\u001b[0marray\u001b[0m\u001b[0;34m(\u001b[0m\u001b[0mz\u001b[0m\u001b[0;34m)\u001b[0m\u001b[0;34m\u001b[0m\u001b[0;34m\u001b[0m\u001b[0m\n\u001b[1;32m     12\u001b[0m     \u001b[0mm\u001b[0m \u001b[0;34m=\u001b[0m \u001b[0mnp\u001b[0m\u001b[0;34m.\u001b[0m\u001b[0mmax\u001b[0m\u001b[0;34m(\u001b[0m\u001b[0mz\u001b[0m\u001b[0;34m)\u001b[0m\u001b[0;34m\u001b[0m\u001b[0;34m\u001b[0m\u001b[0m\n\u001b[0;32m---> 13\u001b[0;31m     \u001b[0;32mreturn\u001b[0m \u001b[0mnp\u001b[0m\u001b[0;34m.\u001b[0m\u001b[0mlog\u001b[0m\u001b[0;34m(\u001b[0m\u001b[0mnp\u001b[0m\u001b[0;34m.\u001b[0m\u001b[0msum\u001b[0m\u001b[0;34m(\u001b[0m\u001b[0mnp\u001b[0m\u001b[0;34m.\u001b[0m\u001b[0mexp\u001b[0m\u001b[0;34m(\u001b[0m\u001b[0mz\u001b[0m \u001b[0;34m-\u001b[0m \u001b[0mm\u001b[0m\u001b[0;34m)\u001b[0m\u001b[0;34m)\u001b[0m\u001b[0;34m)\u001b[0m \u001b[0;34m+\u001b[0m \u001b[0mm\u001b[0m \u001b[0;32mif\u001b[0m \u001b[0mm\u001b[0m \u001b[0;34m!=\u001b[0m \u001b[0;34m-\u001b[0m\u001b[0mnp\u001b[0m\u001b[0;34m.\u001b[0m\u001b[0minf\u001b[0m \u001b[0;32melse\u001b[0m \u001b[0;34m-\u001b[0m\u001b[0mnp\u001b[0m\u001b[0;34m.\u001b[0m\u001b[0minf\u001b[0m\u001b[0;34m\u001b[0m\u001b[0;34m\u001b[0m\u001b[0m\n\u001b[0m\u001b[1;32m     14\u001b[0m \u001b[0;34m\u001b[0m\u001b[0m\n\u001b[1;32m     15\u001b[0m \u001b[0;32mdef\u001b[0m \u001b[0mprefix_to_string\u001b[0m\u001b[0;34m(\u001b[0m\u001b[0mpr\u001b[0m\u001b[0;34m)\u001b[0m\u001b[0;34m:\u001b[0m\u001b[0;34m\u001b[0m\u001b[0;34m\u001b[0m\u001b[0m\n",
      "\u001b[0;31mKeyboardInterrupt\u001b[0m: "
     ]
    }
   ],
   "source": [
    "print(\"\"\"Testing the checkpoints on our holdout set.\n",
    "(This is probably too optimistic since we used the holdout set to choose these checkpoints.)\n",
    "\"\"\")\n",
    "\n",
    "print(\"Checkpoint 0:\", util.beamtest.CHECKPOINTS[0])\n",
    "result = util.beamtest.test(util.beamtest.CHECKPOINTS[0], quiet=True)\n",
    "print(result)\n",
    "print()\n",
    "print(\"Checkpoint 1:\", util.beamtest.CHECKPOINTS[1])\n",
    "result = util.beamtest.test(util.beamtest.CHECKPOINTS[1], quiet=True)\n",
    "print(result)\n",
    "print()\n",
    "print(\"Checkpoint 2:\", util.beamtest.CHECKPOINTS[2])\n",
    "result = util.beamtest.test(util.beamtest.CHECKPOINTS[2], quiet=True)\n",
    "print(result)"
   ]
  },
  {
   "cell_type": "code",
   "execution_count": 42,
   "metadata": {},
   "outputs": [
    {
     "data": {
      "text/plain": [
       "torch.Size([1, 2, 2])"
      ]
     },
     "execution_count": 42,
     "metadata": {},
     "output_type": "execute_result"
    }
   ],
   "source": [
    "torch.zeros(1, 2, 2).shape"
   ]
  },
  {
   "cell_type": "code",
   "execution_count": 64,
   "metadata": {},
   "outputs": [
    {
     "name": "stdout",
     "output_type": "stream",
     "text": [
      "Done  64/750.\n",
      "Done 128/750.\n",
      "Done 192/750.\n",
      "Done 256/750.\n",
      "Done 320/750.\n",
      "Done 384/750.\n",
      "Done 448/750.\n",
      "Done 512/750.\n",
      "Done 576/750.\n",
      "Done 640/750.\n",
      "Done 704/750.\n",
      "Done 750/750.\n",
      "Done  64/750.\n",
      "Done 128/750.\n",
      "Done 192/750.\n",
      "Done 256/750.\n",
      "Done 320/750.\n",
      "Done 384/750.\n",
      "Done 448/750.\n",
      "Done 512/750.\n",
      "Done 576/750.\n",
      "Done 640/750.\n",
      "Done 704/750.\n",
      "Done 750/750.\n",
      "Done  64/750.\n",
      "Done 128/750.\n",
      "Done 192/750.\n",
      "Done 256/750.\n",
      "Done 320/750.\n",
      "Done 384/750.\n",
      "Done 448/750.\n",
      "Done 512/750.\n",
      "Done 576/750.\n",
      "Done 640/750.\n",
      "Done 704/750.\n",
      "Done 750/750.\n"
     ]
    }
   ],
   "source": [
    "ensembleoutput = [Test(CHECKPOINTS[j], True).allbeams() for j in range(3)]"
   ]
  },
  {
   "cell_type": "code",
   "execution_count": 83,
   "metadata": {
    "colab": {},
    "colab_type": "code",
    "id": "yIrUJwmrgbzI"
   },
   "outputs": [
    {
     "name": "stdout",
     "output_type": "stream",
     "text": [
      "Try an ensemble prediction.\n",
      "{'12.5': -0.48175181686115826, '12,5': -8.938541769981384, '125': -22.211092948913574, '112.5': -1017.443115234375, '112,5': -1009.1694355010986, '1265': -1009.9181890487671, '1235': -1009.9227495193481, '12.56': -1012.3385948572526}\n",
      "error at 8: 13.6 != 136\n",
      "error at 41: -21.94 != -7194\n",
      "error at 60: 21500 != 21,500\n",
      "error at 94: 250 != 230\n",
      "error at 95: 81,800 != 8,800\n",
      "error at 148: 25 != 2,5\n",
      "error at 160: 5,600 != 5600\n",
      "error at 161: 226 != 22,6\n",
      "error at 165: 8900 != 89\n",
      "error at 170: 3500 != 3,500\n",
      "error at 173: 7,700 != 7,100\n",
      "error at 179: 19.5 != 195\n",
      "error at 190: 34 != 134\n",
      "error at 191: 78 != 79\n",
      "error at 203: 15 != 1.5\n",
      "error at 268: 1,500 != 6,500\n",
      "error at 284: 6 != 67\n",
      "error at 295: 18.5 != 18.3\n",
      "error at 298: 61 != 67\n",
      "error at 343: 9.7 != 9,7\n",
      "error at 375: 81 != 21\n",
      "error at 386: 120 != 130\n",
      "error at 403: 10 != 70\n",
      "error at 417: 117 != 11.7\n",
      "error at 422: 98 != 9,8\n",
      "error at 431: 13.6 != 136\n",
      "error at 446: 8,4 != 8.4\n",
      "error at 462: 68 != -68\n",
      "error at 468: 150 != 15\n",
      "error at 486: 12900 != 12300\n",
      "error at 508: 6,600 != 6,100\n",
      "error at 528: 12.5 != 125\n",
      "error at 531: 12 != 13\n",
      "error at 532: 137.83 != 137.93\n",
      "error at 540: -74.73 != 74.73\n",
      "error at 543: 41,400 != 4,400\n",
      "error at 592: -12.01 != -12.011\n",
      "error at 595: 1,600 != 5,900\n",
      "error at 615: 15 != 151\n",
      "error at 641: -199 != -194\n",
      "error at 666: 98 != 88\n",
      "error at 689: 6,300 != 6.300\n",
      "error at 705: 70 != 20\n",
      "error at 714: 75.5 != 75,5\n",
      "error at 734: 104.33 != 104.53\n",
      "error at 739: 1,50 != 1.50\n",
      "704/750 successful\n"
     ]
    },
    {
     "data": {
      "text/plain": [
       "704"
      ]
     },
     "execution_count": 83,
     "metadata": {},
     "output_type": "execute_result"
    }
   ],
   "source": [
    "print(\"Try an ensemble prediction.\")\n",
    "\n",
    "#ensemble = [Test(CHECKPOINTS[j], True) for j in range(3)]\n",
    "\n",
    "def add_beams(probs, beamlist):\n",
    "    newprobs = {}\n",
    "    for beam in beamlist:\n",
    "        prefix = util.beam.prefix_to_string(beam.prefix)\n",
    "        p = beam.p\n",
    "        if probs is None:\n",
    "            newprobs[prefix] = p\n",
    "        elif prefix in probs:\n",
    "            newprobs[prefix] = probs[prefix] + p\n",
    "        else:\n",
    "            newprobs[prefix] = -999 + p\n",
    "    return newprobs\n",
    "        \n",
    "def decode_one_image_ensemble(ensemble, filename):\n",
    "    def classify(t, f):\n",
    "        inputs, answer = t.classify_files([filename])\n",
    "        return answer\n",
    "    answers = [classify(t, filename) for t in ensemble]\n",
    "    probs = None\n",
    "    for answer in answers:\n",
    "        probs = add_beams(probs, answer)\n",
    "    print(probs)\n",
    "\n",
    "def combine_one_from_answers(z, j):\n",
    "    probs = None\n",
    "    for answers in z:\n",
    "        probs = add_beams(probs, answers[j])\n",
    "    maxprefix = None\n",
    "    maxprob = None\n",
    "    for (prefix, p) in probs.items():\n",
    "        if maxprob is None or p > maxprob:\n",
    "            maxprob = p\n",
    "            maxprefix = prefix\n",
    "    return maxprefix\n",
    "\n",
    "def test():\n",
    "    count = 0\n",
    "    for ii in range(fh.nvalidation()):\n",
    "        pr = combine_one_from_answers(ensembleoutput, ii)\n",
    "        oo = fh.info['validation'][ii][1]\n",
    "        if pr == oo:\n",
    "            count += 1\n",
    "        else:\n",
    "            print(f\"error at {ii}: {pr} != {oo}\")\n",
    "    print(f\"{count}/{fh.nvalidation()} successful\")\n",
    "    return count\n",
    "\n",
    "decode_one_image_ensemble(ensemble, \"images/cell_images/validation_set/299.jpg\")\n",
    "test()"
   ]
  },
  {
   "cell_type": "code",
   "execution_count": 86,
   "metadata": {},
   "outputs": [
    {
     "data": {
      "text/plain": [
       "0.9453333333333334"
      ]
     },
     "execution_count": 86,
     "metadata": {},
     "output_type": "execute_result"
    }
   ],
   "source": [
    "709 / 750"
   ]
  },
  {
   "cell_type": "code",
   "execution_count": 69,
   "metadata": {},
   "outputs": [
    {
     "data": {
      "text/plain": [
       "750"
      ]
     },
     "execution_count": 69,
     "metadata": {},
     "output_type": "execute_result"
    }
   ],
   "source": [
    "fh.nvalidation()"
   ]
  },
  {
   "cell_type": "code",
   "execution_count": 73,
   "metadata": {},
   "outputs": [
    {
     "data": {
      "text/plain": [
       "('4419.jpg', '10,4')"
      ]
     },
     "execution_count": 73,
     "metadata": {},
     "output_type": "execute_result"
    }
   ],
   "source": [
    "fh.info['validation'][299]"
   ]
  },
  {
   "cell_type": "code",
   "execution_count": null,
   "metadata": {},
   "outputs": [],
   "source": []
  }
 ],
 "metadata": {
  "accelerator": "GPU",
  "colab": {
   "include_colab_link": true,
   "name": "beamtst.ipynb",
   "provenance": [],
   "version": "0.3.2"
  },
  "kernelspec": {
   "display_name": "Python 3",
   "language": "python",
   "name": "python3"
  },
  "language_info": {
   "codemirror_mode": {
    "name": "ipython",
    "version": 3
   },
   "file_extension": ".py",
   "mimetype": "text/x-python",
   "name": "python",
   "nbconvert_exporter": "python",
   "pygments_lexer": "ipython3",
   "version": "3.7.4"
  }
 },
 "nbformat": 4,
 "nbformat_minor": 1
}
