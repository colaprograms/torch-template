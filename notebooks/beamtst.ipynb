{
  "nbformat": 4,
  "nbformat_minor": 0,
  "metadata": {
    "colab": {
      "name": "beamtst.ipynb",
      "version": "0.3.2",
      "provenance": [],
      "include_colab_link": true
    },
    "language_info": {
      "codemirror_mode": {
        "name": "ipython",
        "version": 3
      },
      "file_extension": ".py",
      "mimetype": "text/x-python",
      "name": "python",
      "nbconvert_exporter": "python",
      "pygments_lexer": "ipython3",
      "version": "3.7.3"
    },
    "kernelspec": {
      "name": "python3",
      "display_name": "Python 3"
    },
    "accelerator": "GPU"
  },
  "cells": [
    {
      "cell_type": "markdown",
      "metadata": {
        "id": "view-in-github",
        "colab_type": "text"
      },
      "source": [
        "<a href=\"https://colab.research.google.com/github/colaprograms/2019-hackathon-ocr-wymbah/blob/master/notebooks/beamtst.ipynb\" target=\"_parent\"><img src=\"https://colab.research.google.com/assets/colab-badge.svg\" alt=\"Open In Colab\"/></a>"
      ]
    },
    {
      "cell_type": "markdown",
      "metadata": {
        "id": "c0PIDXiXgbx9",
        "colab_type": "text"
      },
      "source": [
        "This notebook gives you some examples of how to use the model, like:\n",
        "\n",
        "* testing its accuracy on the holdout set.\n",
        "* running the model on an image file."
      ]
    },
    {
      "cell_type": "code",
      "metadata": {
        "id": "75tMRsd5gbyD",
        "colab_type": "code",
        "outputId": "61e3c899-517f-4f6c-d0f7-d6f9c5649aba",
        "colab": {
          "base_uri": "https://localhost:8080/",
          "height": 249
        }
      },
      "source": [
        "import torch, os\n",
        "import numpy as np\n",
        "from importlib import reload\n",
        "\n",
        "if os.path.exists(\"/content\"):\n",
        "    print(\"We're on Google Colab!\")\n",
        "    os.chdir(\"/content\")\n",
        "    #if not os.path.exists(\"/content/AI4Good---Meza-OCR-Challenge\"):\n",
        "    #  !git clone https://github.com/Charitable-Analytics-International/AI4Good---Meza-OCR-Challenge\n",
        "    if not os.path.exists(\"/content/2019-hackathon-ocr-wymbah\"):\n",
        "      !git clone https://github.com/colaprograms/2019-hackathon-ocr-wymbah\n",
        "    os.chdir(\"/content/2019-hackathon-ocr-wymbah\")\n",
        "    !git pull\n",
        "else:\n",
        "    print(\"We're on Jupyter!\")\n",
        "    if os.path.exists(\"../notebooks\"):\n",
        "        os.chdir(\"..\")\n",
        "\n",
        "import nets.ctcnet\n",
        "reload(nets.ctcnet)\n",
        "from nets.ctcnet import *\n",
        "\n",
        "import util.beam\n",
        "reload(util.beam)\n",
        "from util.beam import BeamSearch\n",
        "\n",
        "import util.file\n",
        "reload(util.file)\n",
        "from util.file import FileHolder, file_list_to_tensor\n",
        "fh = FileHolder()\n",
        "\n",
        "import util.beamtest\n",
        "reload(util.beamtest)\n",
        "\n",
        "from util.chars import chars, nchars, idx"
      ],
      "execution_count": 6,
      "outputs": [
        {
          "output_type": "stream",
          "text": [
            "We're on Google Colab!\n",
            "remote: Enumerating objects: 4, done.\u001b[K\n",
            "remote: Counting objects: 100% (4/4), done.\u001b[K\n",
            "remote: Compressing objects: 100% (4/4), done.\u001b[K\n",
            "remote: Total 4 (delta 0), reused 1 (delta 0), pack-reused 0\u001b[K\n",
            "Unpacking objects: 100% (4/4), done.\n",
            "From https://github.com/colaprograms/2019-hackathon-ocr-wymbah\n",
            "   0d4b1d9..1287341  master     -> origin/master\n",
            "Updating 0d4b1d9..1287341\n",
            "Fast-forward\n",
            " util/beamtest.py | 2 \u001b[32m+\u001b[m\u001b[31m-\u001b[m\n",
            " 1 file changed, 1 insertion(+), 1 deletion(-)\n",
            "Using images in images/\n"
          ],
          "name": "stdout"
        }
      ]
    },
    {
      "cell_type": "code",
      "metadata": {
        "id": "lRPuDR3zgbyV",
        "colab_type": "code",
        "outputId": "7c4345ea-0b41-43f7-c9f0-3707bbe305e8",
        "colab": {
          "base_uri": "https://localhost:8080/",
          "height": 782
        }
      },
      "source": [
        "print(\"We try to decode a few images from the validation set.\")\n",
        "\n",
        "def decode_one_image(test, filename):\n",
        "    inputs, answer = test.classify_files([filename])\n",
        "    print(\"Guess:\", answer[0].str())\n",
        "    print(\"Top 3 guesses:\")\n",
        "    for z in answer[:3]:\n",
        "        print(\"    %s (probability = %.4f)\" % (z.str(), np.exp(z.p)))\n",
        "    print(\"Image:\")\n",
        "    util.beamtest.show(inputs[0, :, :, :])\n",
        "\n",
        "from util.beamtest import Test, CHECKPOINTS\n",
        "print(\"*** Using checkpoint 0:\", CHECKPOINTS[0])\n",
        "t1 = Test(CHECKPOINTS[0], True)\n",
        "decode_one_image(t1, \"images/cell_images/validation_set/291.jpg\")\n",
        "\n",
        "print(\"*** Using checkpoint 1:\", CHECKPOINTS[1])\n",
        "t2 = Test(CHECKPOINTS[1], True)\n",
        "decode_one_image(t2, \"images/cell_images/validation_set/291.jpg\")\n",
        "\n",
        "print(\"*** Using checkpoint 2:\", CHECKPOINTS[2])\n",
        "t3 = Test(CHECKPOINTS[2], True)\n",
        "decode_one_image(t3, \"images/cell_images/validation_set/291.jpg\")\n",
        "print(\"That worked great!\")"
      ],
      "execution_count": 12,
      "outputs": [
        {
          "output_type": "stream",
          "text": [
            "We try to decode a few images from the validation set.\n",
            "*** Using checkpoint 0: checkpoint-0049-0.49-CTCModel\n",
            "Guess: 95.6\n",
            "Top 3 guesses:\n",
            "    95.6 (probability = 0.9799)\n",
            "    93.6 (probability = 0.0064)\n",
            "    85.6 (probability = 0.0045)\n",
            "Image:\n"
          ],
          "name": "stdout"
        },
        {
          "output_type": "display_data",
          "data": {
            "image/png": "[encoded data removed]",
            "text/plain": [
              "<Figure size 432x288 with 1 Axes>"
            ]
          },
          "metadata": {
            "tags": []
          }
        },
        {
          "output_type": "stream",
          "text": [
            "*** Using checkpoint 1: checkpoint-0046-0.43-CTCModel\n",
            "Guess: 95.6\n",
            "Top 3 guesses:\n",
            "    95.6 (probability = 0.9922)\n",
            "    95,6 (probability = 0.0054)\n",
            "    956 (probability = 0.0020)\n",
            "Image:\n"
          ],
          "name": "stdout"
        },
        {
          "output_type": "display_data",
          "data": {
            "image/png": "[encoded data removed]",
            "text/plain": [
              "<Figure size 432x288 with 1 Axes>"
            ]
          },
          "metadata": {
            "tags": []
          }
        },
        {
          "output_type": "stream",
          "text": [
            "*** Using checkpoint 2: checkpoint-0079-0.42-CTCModel\n",
            "Guess: 95.6\n",
            "Top 3 guesses:\n",
            "    95.6 (probability = 0.9926)\n",
            "    95,6 (probability = 0.0033)\n",
            "    85.6 (probability = 0.0028)\n",
            "Image:\n"
          ],
          "name": "stdout"
        },
        {
          "output_type": "display_data",
          "data": {
            "image/png": "[encoded data removed]",
            "text/plain": [
              "<Figure size 432x288 with 1 Axes>"
            ]
          },
          "metadata": {
            "tags": []
          }
        },
        {
          "output_type": "stream",
          "text": [
            "That worked great!\n"
          ],
          "name": "stdout"
        }
      ]
    },
    {
      "cell_type": "code",
      "metadata": {
        "id": "kgAh_944gbyj",
        "colab_type": "code",
        "outputId": "9eb2fe63-3f5d-477f-bcdb-60265d84537b",
        "colab": {
          "base_uri": "https://localhost:8080/",
          "height": 907
        }
      },
      "source": [
        "print(\"Let's try it again!\")\n",
        "print(\"*** Using checkpoint 0:\", CHECKPOINTS[0])\n",
        "decode_one_image(t1, \"images/cell_images/validation_set/296.jpg\")\n",
        "print(\"*** Using checkpoint 1:\", CHECKPOINTS[1])\n",
        "decode_one_image(t2, \"images/cell_images/validation_set/296.jpg\")\n",
        "print(\"*** Using checkpoint 2:\", CHECKPOINTS[2])\n",
        "decode_one_image(t3, \"images/cell_images/validation_set/296.jpg\")\n",
        "print(\"That did not go so well. Oh well, those are the breaks.\")\n",
        "print()\n",
        "print(\"This is a hint that we shouldn't take the probabilities too seriously,\")\n",
        "print(\"since the first model predicted 1.95 with probability 0.79, and\")\n",
        "print(\"the second one predicted 195 with probability 0.99.\")"
      ],
      "execution_count": 9,
      "outputs": [
        {
          "output_type": "stream",
          "text": [
            "Clipping input data to the valid range for imshow with RGB data ([0..1] for floats or [0..255] for integers).\n"
          ],
          "name": "stderr"
        },
        {
          "output_type": "stream",
          "text": [
            "Let's try it again!\n",
            "*** Using checkpoint 0: checkpoint-0049-0.49-CTCModel\n",
            "Guess: 1.95\n",
            "Top 3 guesses:\n",
            "    1.95 (probability = 0.7949)\n",
            "    11.95 (probability = 0.0988)\n",
            "    195 (probability = 0.0357)\n",
            "Image:\n"
          ],
          "name": "stdout"
        },
        {
          "output_type": "display_data",
          "data": {
            "image/png": "[encoded data removed]",
            "text/plain": [
              "<Figure size 432x288 with 1 Axes>"
            ]
          },
          "metadata": {
            "tags": []
          }
        },
        {
          "output_type": "stream",
          "text": [
            "Clipping input data to the valid range for imshow with RGB data ([0..1] for floats or [0..255] for integers).\n"
          ],
          "name": "stderr"
        },
        {
          "output_type": "stream",
          "text": [
            "*** Using checkpoint 1: checkpoint-0046-0.43-CTCModel\n",
            "Guess: 195\n",
            "Top 3 guesses:\n",
            "    195 (probability = 0.9939)\n",
            "    19,5 (probability = 0.0010)\n",
            "    19.5 (probability = 0.0005)\n",
            "Image:\n"
          ],
          "name": "stdout"
        },
        {
          "output_type": "display_data",
          "data": {
            "image/png": "[encoded data removed]",
            "text/plain": [
              "<Figure size 432x288 with 1 Axes>"
            ]
          },
          "metadata": {
            "tags": []
          }
        },
        {
          "output_type": "stream",
          "text": [
            "*** Using checkpoint 2: checkpoint-0079-0.42-CTCModel\n"
          ],
          "name": "stdout"
        },
        {
          "output_type": "stream",
          "text": [
            "Clipping input data to the valid range for imshow with RGB data ([0..1] for floats or [0..255] for integers).\n"
          ],
          "name": "stderr"
        },
        {
          "output_type": "stream",
          "text": [
            "Guess: 195\n",
            "Top 3 guesses:\n",
            "    195 (probability = 0.9035)\n",
            "    1.95 (probability = 0.0873)\n",
            "    1295 (probability = 0.0062)\n",
            "Image:\n"
          ],
          "name": "stdout"
        },
        {
          "output_type": "display_data",
          "data": {
            "image/png": "[encoded data removed]",
            "text/plain": [
              "<Figure size 432x288 with 1 Axes>"
            ]
          },
          "metadata": {
            "tags": []
          }
        },
        {
          "output_type": "stream",
          "text": [
            "That did not go so well. Oh well, those are the breaks.\n",
            "\n",
            "This is a hint that we shouldn't take the probabilities too seriously,\n",
            "since the first model predicted 1.95 with probability 0.79, and\n",
            "the second one predicted 195 with probability 0.99.\n"
          ],
          "name": "stdout"
        }
      ]
    },
    {
      "cell_type": "code",
      "metadata": {
        "id": "ZyJeyzYWgbyy",
        "colab_type": "code",
        "outputId": "651360bf-eb6e-4059-f103-6527e180a700",
        "colab": {
          "base_uri": "https://localhost:8080/",
          "height": 910
        }
      },
      "source": [
        "print(\"\"\"Testing the checkpoints on our holdout set.\n",
        "(This is probably too optimistic since we used the holdout set to choose these checkpoints.)\n",
        "\"\"\")\n",
        "\n",
        "print(\"Checkpoint 0:\", util.beamtest.CHECKPOINTS[0])\n",
        "result = util.beamtest.test(util.beamtest.CHECKPOINTS[0], quiet=True)\n",
        "print(result)\n",
        "print()\n",
        "print(\"Checkpoint 1:\", util.beamtest.CHECKPOINTS[1])\n",
        "result = util.beamtest.test(util.beamtest.CHECKPOINTS[1], quiet=True)\n",
        "print(result)\n",
        "print()\n",
        "print(\"Checkpoint 2:\", util.beamtest.CHECKPOINTS[2])\n",
        "result = util.beamtest.test(util.beamtest.CHECKPOINTS[2], quiet=True)\n",
        "print(result)"
      ],
      "execution_count": 10,
      "outputs": [
        {
          "output_type": "stream",
          "text": [
            "Testing the checkpoints on our holdout set.\n",
            "(This is probably too optimistic since we used the holdout set to choose these checkpoints.)\n",
            "\n",
            "Checkpoint 0: checkpoint-0049-0.49-CTCModel\n",
            "Testing 750 images\n",
            "Tested  64/750. 92.19% correct\n",
            "Tested 128/750. 93.75% correct\n",
            "Tested 192/750. 90.62% correct\n",
            "Tested 256/750. 92.19% correct\n",
            "Tested 320/750. 92.19% correct\n",
            "Tested 384/750. 92.19% correct\n",
            "Tested 448/750. 91.74% correct\n",
            "Tested 512/750. 91.80% correct\n",
            "Tested 576/750. 90.80% correct\n",
            "Tested 640/750. 90.94% correct\n",
            "Tested 704/750. 90.77% correct\n",
            "Tested 750/750. 90.80% correct\n",
            "Total correct: 90.80% (681/750)\n",
            "\n",
            "Checkpoint 1: checkpoint-0046-0.43-CTCModel\n",
            "Testing 750 images\n",
            "Tested  64/750. 90.62% correct\n",
            "Tested 128/750. 90.62% correct\n",
            "Tested 192/750. 89.06% correct\n",
            "Tested 256/750. 91.41% correct\n",
            "Tested 320/750. 92.19% correct\n",
            "Tested 384/750. 92.97% correct\n",
            "Tested 448/750. 92.41% correct\n",
            "Tested 512/750. 92.77% correct\n",
            "Tested 576/750. 92.53% correct\n",
            "Tested 640/750. 92.81% correct\n",
            "Tested 704/750. 92.61% correct\n",
            "Tested 750/750. 92.27% correct\n",
            "Total correct: 92.27% (692/750)\n",
            "\n",
            "Checkpoint 2: checkpoint-0079-0.42-CTCModel\n",
            "Testing 750 images\n",
            "Tested  64/750. 93.75% correct\n",
            "Tested 128/750. 91.41% correct\n",
            "Tested 192/750. 91.15% correct\n",
            "Tested 256/750. 92.19% correct\n",
            "Tested 320/750. 92.50% correct\n",
            "Tested 384/750. 93.75% correct\n",
            "Tested 448/750. 93.08% correct\n",
            "Tested 512/750. 92.77% correct\n",
            "Tested 576/750. 92.53% correct\n",
            "Tested 640/750. 92.81% correct\n",
            "Tested 704/750. 93.04% correct\n",
            "Tested 750/750. 92.93% correct\n",
            "Total correct: 92.93% (697/750)\n"
          ],
          "name": "stdout"
        }
      ]
    },
    {
      "cell_type": "code",
      "metadata": {
        "id": "yIrUJwmrgbzI",
        "colab_type": "code",
        "colab": {}
      },
      "source": [
        ""
      ],
      "execution_count": 0,
      "outputs": []
    }
  ]
}