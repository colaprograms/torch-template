{
 "cells": [
  {
   "cell_type": "markdown",
   "metadata": {
    "colab_type": "text",
    "id": "view-in-github"
   },
   "source": [
    "<a href=\"https://colab.research.google.com/github/colaprograms/2019-hackathon-ocr-wymbah/blob/master/notebooks/training.ipynb\" target=\"_parent\"><img src=\"https://colab.research.google.com/assets/colab-badge.svg\" alt=\"Open In Colab\"/></a>"
   ]
  },
  {
   "cell_type": "markdown",
   "metadata": {
    "colab_type": "text",
    "id": "E6yXMI_CfA3s"
   },
   "source": [
    "This notebook trains a model!\n",
    "\n",
    "## If you're in a Jupyter notebook:\n",
    "\n",
    "You have to download the image files yourself with `git clone`.\n",
    "Once you are done, the directory structure should look like\n",
    "```\n",
    "project/\n",
    "project/AI4Good---Meza-OCR-Challenge\n",
    "project/AI4Good---Meza-OCR-Challenge/cell_images, etc\n",
    "project/2019-hackathon-ocr-wymbah\n",
    "project/2019-hackathon-ocr-wymbah/nets\n",
    "project/2019-hackathon-ocr-wymbah/notebooks\n",
    "project/2019-hackathon-ocr-wymbah/util\n",
    "```\n",
    "\n",
    "You may need these commands:\n",
    "```\n",
    "git clone https://github.com/Charitable-Analytics-International/AI4Good---Meza-OCR-Challenge\n",
    "git clone https://github.com/colaprograms/2019-hackathon-ocr-wymbah\n",
    "```\n",
    "\n",
    "## If you're in Google Colab:\n",
    "\n",
    "The notebook should automatically download everything. All you have to do is hit \"Run all\" and then authorize the notebook to mount your drive so that it can save checkpoints in `My Drive/code/checkpoint`.\n",
    "\n",
    "If you run the notebook for the first time and scroll down, you should see something like\n",
    "```\n",
    "We're on Google Colab!\n",
    "Already up to date.\n",
    "Now mounting your Google Drive (not mine, yours)\n",
    "Go to this URL in a browser: https://accounts.google.com/o/oauth2/auth?(et cetera)\n",
    "\n",
    "Enter your authorization code:\n",
    "```\n",
    "\n",
    "Go to the URL as instructed and enter the authorization code. The notebook will then print\n",
    "\n",
    "```\n",
    "Mounted at /content/gdrive\n",
    "Changing directory to /content/2019-hackathon-ocr-wymbah\n",
    "Checkpoints are going to /content/gdrive/My Drive/code/checkpoint\n",
    "```\n",
    "\n",
    "and then (ideally) the rest of the cells will run and it will start training."
   ]
  },
  {
   "cell_type": "code",
   "execution_count": null,
   "metadata": {},
   "outputs": [],
   "source": []
  },
  {
   "cell_type": "code",
   "execution_count": 22,
   "metadata": {
    "colab": {},
    "colab_type": "code",
    "id": "47zAK9Hd86yi"
   },
   "outputs": [],
   "source": [
    "import os, torch, re, sys\n",
    "import numpy as np\n",
    "import matplotlib.pyplot as p\n",
    "import random, PIL"
   ]
  },
  {
   "cell_type": "code",
   "execution_count": 23,
   "metadata": {
    "colab": {
     "base_uri": "https://localhost:8080/",
     "height": 502
    },
    "colab_type": "code",
    "id": "nnmS2Npz9SDs",
    "outputId": "d7d9ad58-b971-4b8c-e969-8c4ccbc67a4c"
   },
   "outputs": [
    {
     "name": "stdout",
     "output_type": "stream",
     "text": [
      "We're in a Jupyter notebook!\n",
      "We will NOT automatically get the training files or pull from git.\n",
      "Changing directory to /home/gibson/sdb2/cola/ass/balls/template\n",
      "Checkpoints are going to /home/gibson/sdb2/cola/ass/balls/template/checkpoint\n"
     ]
    }
   ],
   "source": [
    "USERNAME = \"colaprograms\"\n",
    "REPOSITORY = \"torch-template\"\n",
    "GOOGLE_DRIVE_CHECKPOINT_DIR = \"code/checkpoint\"\n",
    "\n",
    "import os.path\n",
    "from os.path import join\n",
    "def exists(*arg):\n",
    "    return os.path.exists(join(*arg))\n",
    "def trymkdir(*arg):\n",
    "    try:\n",
    "        os.mkdir(join(*arg))\n",
    "        print(\"Created directory\", join(*arg))\n",
    "    except:\n",
    "        pass\n",
    "\n",
    "if exists(\"/content\"):\n",
    "    print(\"We're on Google Colab!\")\n",
    "    print(\"We will automatically try to download everything.\")\n",
    "    PATH = \"/content\"\n",
    "    os.chdir(PATH)\n",
    "    # Get the data files here\n",
    "    #if not exists(PATH, \"AI4Good---Meza-OCR-Challenge\"):\n",
    "    #  !git clone https://github.com/Charitable-Analytics-International/AI4Good---Meza-OCR-Challenge\n",
    "    CODE_PATH = join(PATH, REPOSITORY)\n",
    "    if not os.path.exists(CODE_PATH):\n",
    "        !git clone https://github.com/{USERNAME}/{REPOSITORY}\n",
    "    \"The code may have changed on GitHub since we cloned it\"\n",
    "    os.chdir(CODE_PATH)\n",
    "    !git pull\n",
    "    \n",
    "    \"Mount Google Drive on /content/gdrive/My Drive and try to save checkpoints in code/checkpoint\"\n",
    "    print(\"Now mounting your Google Drive (not mine, yours)\")\n",
    "    from google.colab import drive\n",
    "    drive.mount(\"/content/gdrive\")\n",
    "    CHECKPOINT_PATH = join(\"/content/gdrive/My Drive\", GOOGLE_DRIVE_CHECKPOINT_DIR)\n",
    "    os.makedirs(CHECKPOINT_PATH, exists_ok=True)\n",
    "    trymkdir(\"/content/gdrive/My Drive/code\")\n",
    "    trymkdir(\"/content/gdrive/My Drive/code/checkpoint\")\n",
    "    CHECKPOINT_PATH = \"/content/gdrive/My Drive/code/checkpoint\"\n",
    "else:\n",
    "    print(\"We're in a Jupyter notebook!\")\n",
    "    print(\"We will NOT automatically get the training files or pull from git.\")\n",
    "    if exists(\"../notebooks\"):\n",
    "        \"Move out of the notebooks directory\"\n",
    "        os.chdir(\"..\")\n",
    "    CODE_PATH = os.getcwd()\n",
    "    CHECKPOINT_PATH = join(CODE_PATH, \"checkpoint\")\n",
    "    trymkdir(CHECKPOINT_PATH)\n",
    "\n",
    "print(\"Changing directory to\", CODE_PATH)\n",
    "os.chdir(CODE_PATH)\n",
    "print(\"Checkpoints are going to\", CHECKPOINT_PATH)"
   ]
  },
  {
   "cell_type": "code",
   "execution_count": 24,
   "metadata": {
    "colab": {},
    "colab_type": "code",
    "id": "KL61ucPlfA4W"
   },
   "outputs": [],
   "source": [
    "import torch.nn as nn\n",
    "import torch.optim as optim\n",
    "import torchvision\n",
    "\n",
    "# Numpy will show all numbers to 4 decimal places\n",
    "np.set_printoptions(4, suppress=True)"
   ]
  },
  {
   "cell_type": "code",
   "execution_count": 25,
   "metadata": {
    "colab": {},
    "colab_type": "code",
    "id": "RBrQBRzb9Vyp"
   },
   "outputs": [
    {
     "name": "stderr",
     "output_type": "stream",
     "text": [
      "Clipping input data to the valid range for imshow with RGB data ([0..1] for floats or [0..255] for integers).\n"
     ]
    },
    {
     "name": "stdout",
     "output_type": "stream",
     "text": [
      "Reloading util.file\n",
      "Using images in ../AI4Good---Meza-OCR-Challenge\n",
      "\n",
      "Reloading util.chars\n",
      "\n",
      "Reloading nets.ctcnet\n",
      "\n",
      "Loaded 6747 training images and 750 validation images\n",
      "Showing an example training image\n",
      "\n",
      "Label: 14\n",
      "Image mean: [0. 0. 0.]\n",
      "Image std dev: [0.5 0.5 0.5]\n"
     ]
    },
    {
     "data": {
      "image/png": "[encoded data removed]",
      "text/plain": [
       "<Figure size 432x288 with 1 Axes>"
      ]
     },
     "metadata": {
      "needs_background": "light"
     },
     "output_type": "display_data"
    },
    {
     "name": "stderr",
     "output_type": "stream",
     "text": [
      "Clipping input data to the valid range for imshow with RGB data ([0..1] for floats or [0..255] for integers).\n"
     ]
    },
    {
     "name": "stdout",
     "output_type": "stream",
     "text": [
      "\n",
      "Showing an example validation image\n",
      "\n",
      "Label: 10.1\n",
      "Image mean: [0. 0. 0.]\n",
      "Image std dev: [0.5 0.5 0.5]\n"
     ]
    },
    {
     "data": {
      "image/png": "[encoded data removed]",
      "text/plain": [
       "<Figure size 432x288 with 1 Axes>"
      ]
     },
     "metadata": {
      "needs_background": "light"
     },
     "output_type": "display_data"
    }
   ],
   "source": [
    "# Reload all of our modules in case they changed\n",
    "\n",
    "modules_to_reload = [\n",
    "    \"util.file\",\n",
    "    \"util.chars\",\n",
    "    \"nets.ctcnet\"\n",
    "]\n",
    "\n",
    "from importlib import import_module, reload\n",
    "for module in modules_to_reload:\n",
    "    print(\"Reloading %s\" % module)\n",
    "    reload(import_module(module))\n",
    "\n",
    "from util.chars import chars, nchars, idx, input_to_string\n",
    "from util.file import FileHolder\n",
    "from nets.ctcnet import CTCModel\n",
    "\n",
    "fh = FileHolder()\n",
    "print(\"Loaded %d training images and %d validation images\" %\n",
    "     (fh.ntraining(), fh.nvalidation()))\n",
    "\n",
    "def show(z):\n",
    "    print()\n",
    "    b = z[0].numpy().squeeze().transpose(1, 2, 0)\n",
    "    print(\"Label:\", z[1][0])\n",
    "    print(\"Image mean:\", np.mean(b, axis=(0, 1)))\n",
    "    print(\"Image std dev:\", np.std(b, axis=(0, 1)))\n",
    "    p.imshow(b * 0.3 + 0.9)\n",
    "    p.show()\n",
    "\n",
    "print(\"Showing an example training image\")\n",
    "b = fh.get_batch_tensor(1)\n",
    "show(b)\n",
    "\n",
    "print()\n",
    "print(\"Showing an example validation image\")\n",
    "b = fh.get_batch_tensor(1, validation=True)\n",
    "show(b)"
   ]
  },
  {
   "cell_type": "code",
   "execution_count": 26,
   "metadata": {
    "colab": {
     "base_uri": "https://localhost:8080/",
     "height": 553
    },
    "colab_type": "code",
    "id": "gj9U2jENAnfQ",
    "outputId": "ccad114c-e738-4fba-9ab1-86e02577c43a",
    "scrolled": false
   },
   "outputs": [
    {
     "name": "stdout",
     "output_type": "stream",
     "text": [
      "Training network from scratch\n",
      "Once the validation loss stops improving, you should probably stop the model.\n",
      "For this model, that seems to take around 50 epochs.\n",
      "Each epoch should take about 1.1 minutes.\n",
      "Epoch 0. Loss: 12.560527\n",
      "Validation loss: 8.046623\n",
      "Saved /home/gibson/sdb2/cola/ass/balls/template/checkpoint/checkpoint-0000-8.05\n",
      "Epoch 1. Loss: 7.708551\n",
      "Validation loss: 7.087555\n",
      "Saved /home/gibson/sdb2/cola/ass/balls/template/checkpoint/checkpoint-0001-7.09\n",
      "Epoch 2. Loss: 6.672482\n",
      "Validation loss: 6.063177\n",
      "Saved /home/gibson/sdb2/cola/ass/balls/template/checkpoint/checkpoint-0002-6.06\n",
      "Epoch 3. Loss: 5.838690\n",
      "Validation loss: 5.356269\n",
      "Saved /home/gibson/sdb2/cola/ass/balls/template/checkpoint/checkpoint-0003-5.36\n",
      "Epoch 4. Loss: 4.993338\n",
      "Validation loss: 4.398475\n",
      "Saved /home/gibson/sdb2/cola/ass/balls/template/checkpoint/checkpoint-0004-4.40\n",
      "Epoch 5. Loss: 3.954670\n",
      "Validation loss: 3.377239\n",
      "Saved /home/gibson/sdb2/cola/ass/balls/template/checkpoint/checkpoint-0005-3.38\n",
      "Epoch 6. Loss: 2.874086\n",
      "Validation loss: 2.238450\n",
      "Saved /home/gibson/sdb2/cola/ass/balls/template/checkpoint/checkpoint-0006-2.24\n",
      "Epoch 7. Loss: 2.155806\n",
      "Validation loss: 1.764066\n",
      "Saved /home/gibson/sdb2/cola/ass/balls/template/checkpoint/checkpoint-0007-1.76\n",
      "Epoch 8. Loss: 1.676188\n",
      "Validation loss: 1.297043\n",
      "Saved /home/gibson/sdb2/cola/ass/balls/template/checkpoint/checkpoint-0008-1.30\n",
      "Epoch 9. Loss: 1.274353\n",
      "Validation loss: 0.986082\n",
      "Saved /home/gibson/sdb2/cola/ass/balls/template/checkpoint/checkpoint-0009-0.99\n",
      "Epoch 10. Loss: 1.057654\n",
      "Validation loss: 0.859024\n",
      "Saved /home/gibson/sdb2/cola/ass/balls/template/checkpoint/checkpoint-0010-0.86\n",
      "Epoch 11. Loss: 0.854715\n",
      "Validation loss: 0.778591\n",
      "Saved /home/gibson/sdb2/cola/ass/balls/template/checkpoint/checkpoint-0011-0.78\n",
      "Epoch 12. Loss: 0.773014\n",
      "Validation loss: 0.806074\n",
      "Saved /home/gibson/sdb2/cola/ass/balls/template/checkpoint/checkpoint-0012-0.81\n"
     ]
    },
    {
     "ename": "KeyboardInterrupt",
     "evalue": "",
     "output_type": "error",
     "traceback": [
      "\u001b[0;31m---------------------------------------------------------------------------\u001b[0m",
      "\u001b[0;31mKeyboardInterrupt\u001b[0m                         Traceback (most recent call last)",
      "\u001b[0;32m<ipython-input-26-a614d120717a>\u001b[0m in \u001b[0;36m<module>\u001b[0;34m\u001b[0m\n\u001b[1;32m    121\u001b[0m \u001b[0;34m\u001b[0m\u001b[0m\n\u001b[1;32m    122\u001b[0m \u001b[0mblade\u001b[0m \u001b[0;34m=\u001b[0m \u001b[0mRunner\u001b[0m\u001b[0;34m(\u001b[0m\u001b[0;34m)\u001b[0m\u001b[0;34m\u001b[0m\u001b[0;34m\u001b[0m\u001b[0m\n\u001b[0;32m--> 123\u001b[0;31m \u001b[0mblade\u001b[0m\u001b[0;34m.\u001b[0m\u001b[0mrun\u001b[0m\u001b[0;34m(\u001b[0m\u001b[0;36m100\u001b[0m\u001b[0;34m,\u001b[0m \u001b[0mresume_checkpoint\u001b[0m\u001b[0;34m=\u001b[0m\u001b[0;32mNone\u001b[0m\u001b[0;34m)\u001b[0m\u001b[0;34m\u001b[0m\u001b[0;34m\u001b[0m\u001b[0m\n\u001b[0m",
      "\u001b[0;32m<ipython-input-26-a614d120717a>\u001b[0m in \u001b[0;36mrun\u001b[0;34m(self, epochs, resume_checkpoint)\u001b[0m\n\u001b[1;32m    117\u001b[0m             \u001b[0mself\u001b[0m\u001b[0;34m.\u001b[0m\u001b[0mload_from\u001b[0m\u001b[0;34m(\u001b[0m\u001b[0mresume_checkpoint\u001b[0m\u001b[0;34m)\u001b[0m\u001b[0;34m\u001b[0m\u001b[0;34m\u001b[0m\u001b[0m\n\u001b[1;32m    118\u001b[0m         \u001b[0;32mfor\u001b[0m \u001b[0mepoch\u001b[0m \u001b[0;32min\u001b[0m \u001b[0mrange\u001b[0m\u001b[0;34m(\u001b[0m\u001b[0mepochs\u001b[0m\u001b[0;34m)\u001b[0m\u001b[0;34m:\u001b[0m\u001b[0;34m\u001b[0m\u001b[0;34m\u001b[0m\u001b[0m\n\u001b[0;32m--> 119\u001b[0;31m             \u001b[0mself\u001b[0m\u001b[0;34m.\u001b[0m\u001b[0m__train\u001b[0m\u001b[0;34m(\u001b[0m\u001b[0mepoch\u001b[0m\u001b[0;34m)\u001b[0m\u001b[0;34m\u001b[0m\u001b[0;34m\u001b[0m\u001b[0m\n\u001b[0m\u001b[1;32m    120\u001b[0m             \u001b[0mself\u001b[0m\u001b[0;34m.\u001b[0m\u001b[0m__valid\u001b[0m\u001b[0;34m(\u001b[0m\u001b[0mepoch\u001b[0m\u001b[0;34m)\u001b[0m\u001b[0;34m\u001b[0m\u001b[0;34m\u001b[0m\u001b[0m\n\u001b[1;32m    121\u001b[0m \u001b[0;34m\u001b[0m\u001b[0m\n",
      "\u001b[0;32m<ipython-input-26-a614d120717a>\u001b[0m in \u001b[0;36m__train\u001b[0;34m(self, epoch)\u001b[0m\n\u001b[1;32m     68\u001b[0m           \u001b[0mstart\u001b[0m \u001b[0;34m=\u001b[0m \u001b[0mtime\u001b[0m\u001b[0;34m.\u001b[0m\u001b[0mtime\u001b[0m\u001b[0;34m(\u001b[0m\u001b[0;34m)\u001b[0m\u001b[0;34m\u001b[0m\u001b[0;34m\u001b[0m\u001b[0m\n\u001b[1;32m     69\u001b[0m         \u001b[0;32mfor\u001b[0m \u001b[0mi\u001b[0m \u001b[0;32min\u001b[0m \u001b[0mrange\u001b[0m\u001b[0;34m(\u001b[0m\u001b[0;36m100\u001b[0m\u001b[0;34m)\u001b[0m\u001b[0;34m:\u001b[0m\u001b[0;34m\u001b[0m\u001b[0;34m\u001b[0m\u001b[0m\n\u001b[0;32m---> 70\u001b[0;31m           \u001b[0minputs\u001b[0m\u001b[0;34m,\u001b[0m \u001b[0moutputs\u001b[0m \u001b[0;34m=\u001b[0m \u001b[0mfh\u001b[0m\u001b[0;34m.\u001b[0m\u001b[0mget_batch_tensor\u001b[0m\u001b[0;34m(\u001b[0m\u001b[0mBATCH_SIZE\u001b[0m\u001b[0;34m)\u001b[0m\u001b[0;34m\u001b[0m\u001b[0;34m\u001b[0m\u001b[0m\n\u001b[0m\u001b[1;32m     71\u001b[0m           \u001b[0mself\u001b[0m\u001b[0;34m.\u001b[0m\u001b[0moptimizer\u001b[0m\u001b[0;34m.\u001b[0m\u001b[0mzero_grad\u001b[0m\u001b[0;34m(\u001b[0m\u001b[0;34m)\u001b[0m\u001b[0;34m\u001b[0m\u001b[0;34m\u001b[0m\u001b[0m\n\u001b[1;32m     72\u001b[0m           \u001b[0mloss\u001b[0m \u001b[0;34m=\u001b[0m \u001b[0mself\u001b[0m\u001b[0;34m.\u001b[0m\u001b[0mone_batch_loss\u001b[0m\u001b[0;34m(\u001b[0m\u001b[0minputs\u001b[0m\u001b[0;34m,\u001b[0m \u001b[0moutputs\u001b[0m\u001b[0;34m)\u001b[0m\u001b[0;34m\u001b[0m\u001b[0;34m\u001b[0m\u001b[0m\n",
      "\u001b[0;32m/home/gibson/sdb2/cola/ass/balls/template/util/file.py\u001b[0m in \u001b[0;36mget_batch_tensor\u001b[0;34m(self, m, validation, dontclip)\u001b[0m\n\u001b[1;32m    127\u001b[0m \u001b[0;34m\u001b[0m\u001b[0m\n\u001b[1;32m    128\u001b[0m   \u001b[0;32mdef\u001b[0m \u001b[0mget_batch_tensor\u001b[0m\u001b[0;34m(\u001b[0m\u001b[0mself\u001b[0m\u001b[0;34m,\u001b[0m \u001b[0mm\u001b[0m\u001b[0;34m,\u001b[0m \u001b[0mvalidation\u001b[0m\u001b[0;34m=\u001b[0m\u001b[0;32mFalse\u001b[0m\u001b[0;34m,\u001b[0m \u001b[0mdontclip\u001b[0m\u001b[0;34m=\u001b[0m\u001b[0;32mFalse\u001b[0m\u001b[0;34m)\u001b[0m\u001b[0;34m:\u001b[0m\u001b[0;34m\u001b[0m\u001b[0;34m\u001b[0m\u001b[0m\n\u001b[0;32m--> 129\u001b[0;31m     \u001b[0minputs\u001b[0m\u001b[0;34m,\u001b[0m \u001b[0moutputs\u001b[0m \u001b[0;34m=\u001b[0m \u001b[0mself\u001b[0m\u001b[0;34m.\u001b[0m\u001b[0mget_batch\u001b[0m\u001b[0;34m(\u001b[0m\u001b[0mm\u001b[0m\u001b[0;34m,\u001b[0m \u001b[0mvalidation\u001b[0m\u001b[0;34m,\u001b[0m \u001b[0mdontclip\u001b[0m\u001b[0;34m)\u001b[0m\u001b[0;34m\u001b[0m\u001b[0;34m\u001b[0m\u001b[0m\n\u001b[0m\u001b[1;32m    130\u001b[0m     \u001b[0;32mreturn\u001b[0m \u001b[0mtensorize\u001b[0m\u001b[0;34m(\u001b[0m\u001b[0minputs\u001b[0m\u001b[0;34m)\u001b[0m\u001b[0;34m,\u001b[0m \u001b[0moutputs\u001b[0m\u001b[0;34m\u001b[0m\u001b[0;34m\u001b[0m\u001b[0m\n\u001b[1;32m    131\u001b[0m \u001b[0;34m\u001b[0m\u001b[0m\n",
      "\u001b[0;32m/home/gibson/sdb2/cola/ass/balls/template/util/file.py\u001b[0m in \u001b[0;36mget_batch\u001b[0;34m(self, m, validation, dontclip)\u001b[0m\n\u001b[1;32m    114\u001b[0m       \u001b[0mfile\u001b[0m\u001b[0;34m,\u001b[0m \u001b[0mval\u001b[0m \u001b[0;34m=\u001b[0m \u001b[0mfn\u001b[0m\u001b[0;34m(\u001b[0m\u001b[0;34m)\u001b[0m\u001b[0;34m\u001b[0m\u001b[0;34m\u001b[0m\u001b[0m\n\u001b[1;32m    115\u001b[0m       \u001b[0mimage\u001b[0m \u001b[0;34m=\u001b[0m \u001b[0mto_buffer\u001b[0m\u001b[0;34m(\u001b[0m\u001b[0mlabeled_file\u001b[0m\u001b[0;34m(\u001b[0m\u001b[0mfile\u001b[0m\u001b[0;34m)\u001b[0m\u001b[0;34m)\u001b[0m\u001b[0;34m\u001b[0m\u001b[0;34m\u001b[0m\u001b[0m\n\u001b[0;32m--> 116\u001b[0;31m       \u001b[0minputs\u001b[0m\u001b[0;34m.\u001b[0m\u001b[0mappend\u001b[0m\u001b[0;34m(\u001b[0m\u001b[0mcleanup\u001b[0m\u001b[0;34m(\u001b[0m\u001b[0mimage\u001b[0m\u001b[0;34m,\u001b[0m \u001b[0mdontclip\u001b[0m\u001b[0;34m,\u001b[0m \u001b[0maugment\u001b[0m\u001b[0;34m=\u001b[0m\u001b[0;32mnot\u001b[0m \u001b[0mvalidation\u001b[0m\u001b[0;34m)\u001b[0m\u001b[0;34m)\u001b[0m\u001b[0;34m\u001b[0m\u001b[0;34m\u001b[0m\u001b[0m\n\u001b[0m\u001b[1;32m    117\u001b[0m       \u001b[0moutputs\u001b[0m\u001b[0;34m.\u001b[0m\u001b[0mappend\u001b[0m\u001b[0;34m(\u001b[0m\u001b[0mval\u001b[0m\u001b[0;34m)\u001b[0m\u001b[0;34m\u001b[0m\u001b[0;34m\u001b[0m\u001b[0m\n\u001b[1;32m    118\u001b[0m     \u001b[0;32mreturn\u001b[0m \u001b[0minputs\u001b[0m\u001b[0;34m,\u001b[0m \u001b[0moutputs\u001b[0m\u001b[0;34m\u001b[0m\u001b[0;34m\u001b[0m\u001b[0m\n",
      "\u001b[0;32m/home/gibson/sdb2/cola/ass/balls/template/util/file.py\u001b[0m in \u001b[0;36mcleanup\u001b[0;34m(image, dontclip, augment)\u001b[0m\n\u001b[1;32m    244\u001b[0m     \u001b[0mimage\u001b[0m \u001b[0;34m=\u001b[0m \u001b[0mskimage\u001b[0m\u001b[0;34m.\u001b[0m\u001b[0mtransform\u001b[0m\u001b[0;34m.\u001b[0m\u001b[0mrescale\u001b[0m\u001b[0;34m(\u001b[0m\u001b[0mimage\u001b[0m\u001b[0;34m,\u001b[0m \u001b[0;34m(\u001b[0m\u001b[0;36m1\u001b[0m\u001b[0;34m,\u001b[0m \u001b[0mrandom\u001b[0m\u001b[0;34m.\u001b[0m\u001b[0mrandom\u001b[0m\u001b[0;34m(\u001b[0m\u001b[0;34m)\u001b[0m\u001b[0;34m*\u001b[0m\u001b[0;36m0.2\u001b[0m \u001b[0;34m+\u001b[0m \u001b[0;36m0.9\u001b[0m\u001b[0;34m)\u001b[0m\u001b[0;34m,\u001b[0m \u001b[0mmode\u001b[0m\u001b[0;34m=\u001b[0m\u001b[0;34m\"constant\"\u001b[0m\u001b[0;34m,\u001b[0m \u001b[0mcval\u001b[0m\u001b[0;34m=\u001b[0m\u001b[0;36m1.0\u001b[0m\u001b[0;34m)\u001b[0m\u001b[0;34m\u001b[0m\u001b[0;34m\u001b[0m\u001b[0m\n\u001b[1;32m    245\u001b[0m   \u001b[0;31m#image = __crop(image, 0)\u001b[0m\u001b[0;34m\u001b[0m\u001b[0;34m\u001b[0m\u001b[0;34m\u001b[0m\u001b[0m\n\u001b[0;32m--> 246\u001b[0;31m   \u001b[0mmediany\u001b[0m \u001b[0;34m=\u001b[0m \u001b[0m__median\u001b[0m\u001b[0;34m(\u001b[0m\u001b[0mimage\u001b[0m\u001b[0;34m,\u001b[0m \u001b[0;36m0\u001b[0m\u001b[0;34m)\u001b[0m\u001b[0;34m\u001b[0m\u001b[0;34m\u001b[0m\u001b[0m\n\u001b[0m\u001b[1;32m    247\u001b[0m   \u001b[0mmedianx\u001b[0m \u001b[0;34m=\u001b[0m \u001b[0m__median\u001b[0m\u001b[0;34m(\u001b[0m\u001b[0mimage\u001b[0m\u001b[0;34m,\u001b[0m \u001b[0;36m1\u001b[0m\u001b[0;34m)\u001b[0m\u001b[0;34m\u001b[0m\u001b[0;34m\u001b[0m\u001b[0m\n\u001b[1;32m    248\u001b[0m   \u001b[0;34m\"If the median is less than image.shape[1] / 2, then pad on the left\"\u001b[0m\u001b[0;34m\u001b[0m\u001b[0;34m\u001b[0m\u001b[0m\n",
      "\u001b[0;32m/home/gibson/sdb2/cola/ass/balls/template/util/file.py\u001b[0m in \u001b[0;36m__median\u001b[0;34m(buf, med_axis)\u001b[0m\n\u001b[1;32m    200\u001b[0m \u001b[0;32mdef\u001b[0m \u001b[0m__median\u001b[0m\u001b[0;34m(\u001b[0m\u001b[0mbuf\u001b[0m\u001b[0;34m,\u001b[0m \u001b[0mmed_axis\u001b[0m\u001b[0;34m)\u001b[0m\u001b[0;34m:\u001b[0m\u001b[0;34m\u001b[0m\u001b[0;34m\u001b[0m\u001b[0m\n\u001b[1;32m    201\u001b[0m   \u001b[0;32massert\u001b[0m \u001b[0mmed_axis\u001b[0m \u001b[0;34m==\u001b[0m \u001b[0;36m0\u001b[0m \u001b[0;32mor\u001b[0m \u001b[0mmed_axis\u001b[0m \u001b[0;34m==\u001b[0m \u001b[0;36m1\u001b[0m\u001b[0;34m\u001b[0m\u001b[0;34m\u001b[0m\u001b[0m\n\u001b[0;32m--> 202\u001b[0;31m   \u001b[0mbuf\u001b[0m \u001b[0;34m=\u001b[0m \u001b[0mnp\u001b[0m\u001b[0;34m.\u001b[0m\u001b[0mmean\u001b[0m\u001b[0;34m(\u001b[0m\u001b[0mbuf\u001b[0m\u001b[0;34m,\u001b[0m \u001b[0maxis\u001b[0m\u001b[0;34m=\u001b[0m\u001b[0;36m2\u001b[0m\u001b[0;34m)\u001b[0m\u001b[0;34m\u001b[0m\u001b[0;34m\u001b[0m\u001b[0m\n\u001b[0m\u001b[1;32m    203\u001b[0m   \u001b[0mbuf\u001b[0m \u001b[0;34m=\u001b[0m \u001b[0mnp\u001b[0m\u001b[0;34m.\u001b[0m\u001b[0msum\u001b[0m\u001b[0;34m(\u001b[0m\u001b[0;36m1\u001b[0m \u001b[0;34m-\u001b[0m \u001b[0mbuf\u001b[0m\u001b[0;34m,\u001b[0m \u001b[0maxis\u001b[0m \u001b[0;34m=\u001b[0m \u001b[0;36m1\u001b[0m \u001b[0;34m-\u001b[0m \u001b[0mmed_axis\u001b[0m\u001b[0;34m)\u001b[0m\u001b[0;34m\u001b[0m\u001b[0;34m\u001b[0m\u001b[0m\n\u001b[1;32m    204\u001b[0m   \u001b[0mtotal\u001b[0m \u001b[0;34m=\u001b[0m \u001b[0mnp\u001b[0m\u001b[0;34m.\u001b[0m\u001b[0mcumsum\u001b[0m\u001b[0;34m(\u001b[0m\u001b[0mbuf\u001b[0m\u001b[0;34m)\u001b[0m\u001b[0;34m\u001b[0m\u001b[0;34m\u001b[0m\u001b[0m\n",
      "\u001b[0;32m/usr/lib/python3.7/site-packages/numpy/core/fromnumeric.py\u001b[0m in \u001b[0;36mmean\u001b[0;34m(a, axis, dtype, out, keepdims)\u001b[0m\n\u001b[1;32m   3116\u001b[0m \u001b[0;34m\u001b[0m\u001b[0m\n\u001b[1;32m   3117\u001b[0m     return _methods._mean(a, axis=axis, dtype=dtype,\n\u001b[0;32m-> 3118\u001b[0;31m                           out=out, **kwargs)\n\u001b[0m\u001b[1;32m   3119\u001b[0m \u001b[0;34m\u001b[0m\u001b[0m\n\u001b[1;32m   3120\u001b[0m \u001b[0;34m\u001b[0m\u001b[0m\n",
      "\u001b[0;32m/usr/lib/python3.7/site-packages/numpy/core/_methods.py\u001b[0m in \u001b[0;36m_mean\u001b[0;34m(a, axis, dtype, out, keepdims)\u001b[0m\n\u001b[1;32m     73\u001b[0m             \u001b[0mis_float16_result\u001b[0m \u001b[0;34m=\u001b[0m \u001b[0;32mTrue\u001b[0m\u001b[0;34m\u001b[0m\u001b[0;34m\u001b[0m\u001b[0m\n\u001b[1;32m     74\u001b[0m \u001b[0;34m\u001b[0m\u001b[0m\n\u001b[0;32m---> 75\u001b[0;31m     \u001b[0mret\u001b[0m \u001b[0;34m=\u001b[0m \u001b[0mumr_sum\u001b[0m\u001b[0;34m(\u001b[0m\u001b[0marr\u001b[0m\u001b[0;34m,\u001b[0m \u001b[0maxis\u001b[0m\u001b[0;34m,\u001b[0m \u001b[0mdtype\u001b[0m\u001b[0;34m,\u001b[0m \u001b[0mout\u001b[0m\u001b[0;34m,\u001b[0m \u001b[0mkeepdims\u001b[0m\u001b[0;34m)\u001b[0m\u001b[0;34m\u001b[0m\u001b[0;34m\u001b[0m\u001b[0m\n\u001b[0m\u001b[1;32m     76\u001b[0m     \u001b[0;32mif\u001b[0m \u001b[0misinstance\u001b[0m\u001b[0;34m(\u001b[0m\u001b[0mret\u001b[0m\u001b[0;34m,\u001b[0m \u001b[0mmu\u001b[0m\u001b[0;34m.\u001b[0m\u001b[0mndarray\u001b[0m\u001b[0;34m)\u001b[0m\u001b[0;34m:\u001b[0m\u001b[0;34m\u001b[0m\u001b[0;34m\u001b[0m\u001b[0m\n\u001b[1;32m     77\u001b[0m         ret = um.true_divide(\n",
      "\u001b[0;31mKeyboardInterrupt\u001b[0m: "
     ]
    }
   ],
   "source": [
    "BATCH_SIZE = 64\n",
    "\n",
    "class Runner:\n",
    "    def __init__(self):\n",
    "        self.model = CTCModel().cuda()\n",
    "        self.loss = nn.CTCLoss(reduction='sum').cuda()\n",
    "        self.optimizer = optim.SGD(\n",
    "            self.model.parameters(),\n",
    "            lr = 0.0001, # It gets pretty unstable with larger lrs.\n",
    "            momentum = 0.9,\n",
    "            nesterov = True, # Everyone loves Nesterov\n",
    "            weight_decay = 0.001 # A little bit of regularization\n",
    "        )\n",
    "        self.scheduler = optim.lr_scheduler.ReduceLROnPlateau(\n",
    "            self.optimizer,\n",
    "            patience=6,\n",
    "            verbose=True\n",
    "        )\n",
    "        self.trainloss = []\n",
    "        self.validloss = []\n",
    "        \n",
    "    def predict(self, inputs):\n",
    "        # Enter evaluation mode\n",
    "        self.model.eval()\n",
    "        return self.model(inputs.clone().cuda())\n",
    "    \n",
    "    def one_batch_loss(self, inputs, outputs):\n",
    "        inputs = self.model(inputs.clone().cuda())\n",
    "        inputs = inputs.permute(1, 0, 2)\n",
    "        # sequence, batch, channels\n",
    "        # All sequences should be 32 long, because that's\n",
    "        # the size of the image after we pad to 256 pixels\n",
    "        # and then run it through the convolutions.\n",
    "        assert inputs.shape[0] == 32\n",
    "        input_lengths = torch.tensor(\n",
    "            [32 for i in range(inputs.shape[1])],\n",
    "            dtype=torch.int32\n",
    "        )\n",
    "        target, target_lengths = Runner.maketarget(outputs)\n",
    "        \n",
    "        loss = self.loss(inputs, target, input_lengths, target_lengths)\n",
    "        return loss\n",
    "    \n",
    "    @staticmethod\n",
    "    def maketarget(outputs):\n",
    "        classes = []\n",
    "        \"Concatenate all the outputs into one array\"\n",
    "        for string in outputs:\n",
    "            classes.extend([idx[c] for c in string])\n",
    "        lengths = [len(string) for string in outputs]\n",
    "        # We use int32 because Torch promises us that we\n",
    "        # can use special CuDNN code if we meet some\n",
    "        # requirements, and one of the requirements is\n",
    "        # that these tensors have type torch.int32.\n",
    "        return (\n",
    "            torch.tensor(classes, dtype=torch.int32),\n",
    "            torch.tensor(lengths, dtype=torch.int32)\n",
    "        )\n",
    "\n",
    "    def __train(self, epoch):\n",
    "        # set training mode just in case it has somehow been unset\n",
    "        self.model.train()\n",
    "        running_loss = 0.0\n",
    "        length = 0\n",
    "        #print(\"Example output:\")\n",
    "        import time\n",
    "        if epoch == 0:\n",
    "          start = time.time()\n",
    "        for i in range(100):\n",
    "          inputs, outputs = fh.get_batch_tensor(BATCH_SIZE)\n",
    "          self.optimizer.zero_grad()\n",
    "          loss = self.one_batch_loss(inputs, outputs)\n",
    "          loss.backward()\n",
    "          self.optimizer.step()\n",
    "          running_loss += loss.item()\n",
    "          length += BATCH_SIZE\n",
    "          if epoch == 0 and i == 10:\n",
    "            elapsed = time.time() - start\n",
    "            print(\"Each epoch should take about %.1f minutes.\" % (elapsed*10/60))\n",
    "            loss = None\n",
    "        trainingloss = running_loss / length\n",
    "        print(\"Epoch %d. Loss: %f\" % (epoch, trainingloss))\n",
    "        self.trainloss.append(trainingloss)\n",
    "    \n",
    "    def __valid(self, epoch):\n",
    "        running_loss = 0.0\n",
    "        length = 0\n",
    "        with torch.no_grad():\n",
    "            for i in range(100):\n",
    "                inputs, outputs = fh.get_batch_tensor(BATCH_SIZE, validation=True)\n",
    "                loss = self.one_batch_loss(inputs, outputs)\n",
    "                running_loss += loss.item()\n",
    "                length += BATCH_SIZE\n",
    "        validationloss = running_loss / length\n",
    "        self.scheduler.step(validationloss)\n",
    "        print(\"Validation loss: %f\" % validationloss)\n",
    "        self.validloss.append(validationloss)\n",
    "        file = join(CHECKPOINT_PATH, \"checkpoint-%04d-%.2f\" % (epoch, validationloss))\n",
    "        torch.save({\n",
    "            'model': self.model.state_dict(),\n",
    "            'trainloss': self.trainloss,\n",
    "            'validloss': self.validloss\n",
    "        }, file)\n",
    "        print(\"Saved\", file)\n",
    "    \n",
    "    def load_from(self, file):\n",
    "        checkpoint = torch.load(file)\n",
    "        self.model.load_state_dict(checkpoint['model'])\n",
    "        self.trainloss, self.validloss = checkpoint['trainloss'], checkpoint['validloss']\n",
    "        \n",
    "    def run(self, epochs, resume_checkpoint=None):\n",
    "        if resume_checkpoint is None:\n",
    "            print(\"Training network from scratch\")\n",
    "            print(\"Once the validation loss stops improving, you should probably stop the model.\")\n",
    "            print(\"For this model, that seems to take around 50 epochs.\")\n",
    "        else:\n",
    "            self.load_from(resume_checkpoint)\n",
    "        for epoch in range(epochs):\n",
    "            self.__train(epoch)\n",
    "            self.__valid(epoch)\n",
    "\n",
    "blade = Runner()\n",
    "blade.run(100, resume_checkpoint=None)"
   ]
  },
  {
   "cell_type": "code",
   "execution_count": null,
   "metadata": {
    "colab": {},
    "colab_type": "code",
    "id": "9kB7gURafA46"
   },
   "outputs": [],
   "source": []
  },
  {
   "cell_type": "code",
   "execution_count": 21,
   "metadata": {},
   "outputs": [
    {
     "data": {
      "text/plain": [
       "{'load_extensions': {'codefolding/main': False,\n",
       "  'nbextensions_configurator/config_menu/main': True,\n",
       "  'contrib_nbextensions_help_item/main': True,\n",
       "  'collapsible_headings/main': True},\n",
       " 'CodeCell': {'cm_config': {'autoCloseBrackets': False}}}"
      ]
     },
     "execution_count": 21,
     "metadata": {},
     "output_type": "execute_result"
    }
   ],
   "source": [
    "from notebook.services.config import ConfigManager\n",
    "ConfigManager().update('notebook', {'CodeCell': {'cm_config': {'autoCloseBrackets': False}}})"
   ]
  }
 ],
 "metadata": {
  "accelerator": "GPU",
  "colab": {
   "include_colab_link": true,
   "name": "ctc-test.ipynb",
   "provenance": [],
   "version": "0.3.2"
  },
  "kernelspec": {
   "display_name": "Python 3",
   "language": "python",
   "name": "python3"
  },
  "language_info": {
   "codemirror_mode": {
    "name": "ipython",
    "version": 3
   },
   "file_extension": ".py",
   "mimetype": "text/x-python",
   "name": "python",
   "nbconvert_exporter": "python",
   "pygments_lexer": "ipython3",
   "version": "3.7.4"
  }
 },
 "nbformat": 4,
 "nbformat_minor": 1
}
