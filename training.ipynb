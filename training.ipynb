{
 "cells": [
  {
   "cell_type": "markdown",
   "metadata": {
    "colab_type": "text",
    "id": "view-in-github"
   },
   "source": [
    "<a href=\"https://colab.research.google.com/github/colaprograms/2019-hackathon-ocr-wymbah/blob/master/training.ipynb\" target=\"_parent\"><img src=\"https://colab.research.google.com/assets/colab-badge.svg\" alt=\"Open In Colab\"/></a>"
   ]
  },
  {
   "cell_type": "code",
   "execution_count": 16,
   "metadata": {
    "colab": {},
    "colab_type": "code",
    "id": "LLiYDmYMWZIm"
   },
   "outputs": [],
   "source": [
    "import os, torch, re, sys\n",
    "import numpy as np\n",
    "import matplotlib.pyplot as p\n",
    "import random, PIL\n",
    "import os.path\n",
    "from os.path import join"
   ]
  },
  {
   "cell_type": "code",
   "execution_count": 17,
   "metadata": {
    "colab": {
     "base_uri": "https://localhost:8080/",
     "height": 303
    },
    "colab_type": "code",
    "id": "gzKI4uGPWblh",
    "outputId": "c59a17d4-0d4e-4a08-c993-3fd8f5a03e84"
   },
   "outputs": [
    {
     "name": "stdout",
     "output_type": "stream",
     "text": [
      "We're in a Jupyter notebook!\n",
      "Changing directory to /home/gibson/sdb2/cola/ass/balls/template\n",
      "Checkpoints are going to /home/gibson/sdb2/cola/ass/balls/template/checkpoint\n"
     ]
    }
   ],
   "source": [
    "\"\"\"This notebook is designed to run on Google Colab.\n",
    "If it detects that it is running on Colab, it downloads the rest of its repository from Github\n",
    "and mounts a Google Drive to save the checkpoint files. The idea is that you can just run it\n",
    "by itself, and it pulls in everything else it needs.\n",
    "\"\"\"\n",
    "\n",
    "USERNAME = \"colaprograms\"\n",
    "REPOSITORY = \"torch-template\"\n",
    "GOOGLE_DRIVE_CHECKPOINT_DIR = \"code/checkpoint\"\n",
    "\n",
    "if exists(\"/content\"):\n",
    "    print(\"We're on Google Colab!\")\n",
    "    CODE_PATH = join(\"/content\", REPOSITORY)\n",
    "    if not os.path.exists(CODE_PATH):\n",
    "        print(f\"Cloning new copy of the repository {REPOSITORY} into {CODE_PATH}\")\n",
    "        !git clone https://github.com/${USERNAME}/{REPOSITORY}\n",
    "    os.chdir(CODE_PATH)\n",
    "    \"The code may have changed on GitHub since we cloned it\"\n",
    "    !git pull\n",
    "    \n",
    "    # Download data files here\n",
    "    \n",
    "    \"Mount Google Drive on /content/gdrive/My Drive and try to save checkpoints in CHECKPOINT_DIR_ON_COLAB\"\n",
    "    print(\"Now mounting your Google Drive (not mine, yours)\")\n",
    "    from google.colab import drive\n",
    "    drive.mount(\"/content/gdrive\")\n",
    "    CHECKPOINT_PATH = join(\"/content/gdrive/My Drive\", GOOGLE_DRIVE_CHECKPOINT_DIR)\n",
    "    os.makedirs(CHECKPOINT_PATH, exist_ok=True)\n",
    "else:\n",
    "    print(\"We're in a Jupyter notebook!\")\n",
    "    if os.path.exists(\"../notebooks\"):\n",
    "        \"Move out of the notebooks directory\"\n",
    "        os.chdir(\"..\")\n",
    "    CODE_PATH = os.getcwd()\n",
    "    CHECKPOINT_PATH = join(CODE_PATH, \"checkpoint\")\n",
    "    os.makedirs(CHECKPOINT_PATH, exist_ok=True)\n",
    "\n",
    "print(\"Changing directory to\", CODE_PATH)\n",
    "os.chdir(CODE_PATH)\n",
    "print(\"Checkpoints are going to\", CHECKPOINT_PATH)"
   ]
  },
  {
   "cell_type": "code",
   "execution_count": 18,
   "metadata": {
    "colab": {},
    "colab_type": "code",
    "id": "KFzA4V-aWcfQ"
   },
   "outputs": [],
   "source": [
    "import torch.nn as nn\n",
    "import torch.optim as optim\n",
    "import torchvision\n",
    "\n",
    "# Numpy will show all numbers to 4 decimal places\n",
    "np.set_printoptions(4, suppress=True)"
   ]
  },
  {
   "cell_type": "code",
   "execution_count": 19,
   "metadata": {
    "colab": {
     "base_uri": "https://localhost:8080/",
     "height": 684
    },
    "colab_type": "code",
    "id": "-wccsVcAWdr3",
    "outputId": "08b75845-47dc-4f6a-9709-e783476d2deb"
   },
   "outputs": [
    {
     "name": "stderr",
     "output_type": "stream",
     "text": [
      "Clipping input data to the valid range for imshow with RGB data ([0..1] for floats or [0..255] for integers).\n"
     ]
    },
    {
     "name": "stdout",
     "output_type": "stream",
     "text": [
      "Reloading util.file\n",
      "Using images in ../AI4Good---Meza-OCR-Challenge\n",
      "\n",
      "Reloading util.chars\n",
      "\n",
      "Reloading nets.ctcnet\n",
      "\n",
      "Loaded 6747 training images and 750 validation images\n",
      "Showing an example training image\n",
      "\n",
      "Label: 13.4\n",
      "Image mean: [0. 0. 0.]\n",
      "Image std dev: [0.5 0.5 0.5]\n"
     ]
    },
    {
     "data": {
      "image/png": "[encoded data removed]",
      "text/plain": [
       "<Figure size 432x288 with 1 Axes>"
      ]
     },
     "metadata": {
      "needs_background": "light"
     },
     "output_type": "display_data"
    },
    {
     "name": "stderr",
     "output_type": "stream",
     "text": [
      "Clipping input data to the valid range for imshow with RGB data ([0..1] for floats or [0..255] for integers).\n"
     ]
    },
    {
     "name": "stdout",
     "output_type": "stream",
     "text": [
      "\n",
      "Showing an example validation image\n",
      "\n",
      "Label: 168\n",
      "Image mean: [0. 0. 0.]\n",
      "Image std dev: [0.5 0.5 0.5]\n"
     ]
    },
    {
     "data": {
      "image/png": "[encoded data removed]",
      "text/plain": [
       "<Figure size 432x288 with 1 Axes>"
      ]
     },
     "metadata": {
      "needs_background": "light"
     },
     "output_type": "display_data"
    }
   ],
   "source": [
    "# Reload all of our modules in case they changed\n",
    "\n",
    "modules_to_reload = [\n",
    "    \"util.file\",\n",
    "    \"util.chars\",\n",
    "    \"nets.ctcnet\"\n",
    "]\n",
    "\n",
    "from importlib import import_module, reload\n",
    "for module in modules_to_reload:\n",
    "    print(\"Reloading %s\" % module)\n",
    "    reload(import_module(module))\n",
    "    print()\n",
    "\n",
    "from util.chars import chars, nchars, idx, input_to_string\n",
    "from util.file import FileHolder\n",
    "from nets.ctcnet import CTCModel\n",
    "\n",
    "fh = FileHolder()\n",
    "print(\"Loaded %d training images and %d validation images\" %\n",
    "     (fh.ntraining(), fh.nvalidation()))\n",
    "\n",
    "def show(z):\n",
    "    print()\n",
    "    b = z[0].numpy().squeeze().transpose(1, 2, 0)\n",
    "    print(\"Label:\", z[1][0])\n",
    "    print(\"Image mean:\", np.mean(b, axis=(0, 1)))\n",
    "    print(\"Image std dev:\", np.std(b, axis=(0, 1)))\n",
    "    p.imshow(b * 0.3 + 0.9)\n",
    "    p.show()\n",
    "\n",
    "print(\"Showing an example training image\")\n",
    "b = fh.get_batch_tensor(1)\n",
    "show(b)\n",
    "\n",
    "print()\n",
    "print(\"Showing an example validation image\")\n",
    "b = fh.get_batch_tensor(1, validation=True)\n",
    "show(b)"
   ]
  },
  {
   "cell_type": "code",
   "execution_count": 20,
   "metadata": {
    "colab": {
     "base_uri": "https://localhost:8080/",
     "height": 1000
    },
    "colab_type": "code",
    "id": "S0S91aDGWgft",
    "outputId": "0bd19cd7-7639-41c9-ba5c-9deb60381fa1"
   },
   "outputs": [
    {
     "ename": "RuntimeError",
     "evalue": "CUDA error: out of memory",
     "output_type": "error",
     "traceback": [
      "\u001b[0;31m---------------------------------------------------------------------------\u001b[0m",
      "\u001b[0;31mRuntimeError\u001b[0m                              Traceback (most recent call last)",
      "\u001b[0;32m<ipython-input-20-6b33fe326889>\u001b[0m in \u001b[0;36m<module>\u001b[0;34m\u001b[0m\n\u001b[1;32m    138\u001b[0m             \u001b[0mself\u001b[0m\u001b[0;34m.\u001b[0m\u001b[0m__valid\u001b[0m\u001b[0;34m(\u001b[0m\u001b[0mepoch\u001b[0m\u001b[0;34m)\u001b[0m\u001b[0;34m\u001b[0m\u001b[0;34m\u001b[0m\u001b[0m\n\u001b[1;32m    139\u001b[0m \u001b[0;34m\u001b[0m\u001b[0m\n\u001b[0;32m--> 140\u001b[0;31m \u001b[0mblade\u001b[0m \u001b[0;34m=\u001b[0m \u001b[0mRunner\u001b[0m\u001b[0;34m(\u001b[0m\u001b[0;34m)\u001b[0m\u001b[0;34m\u001b[0m\u001b[0;34m\u001b[0m\u001b[0m\n\u001b[0m\u001b[1;32m    141\u001b[0m \u001b[0mblade\u001b[0m\u001b[0;34m.\u001b[0m\u001b[0mrun\u001b[0m\u001b[0;34m(\u001b[0m\u001b[0;36m100\u001b[0m\u001b[0;34m,\u001b[0m \u001b[0mresume_checkpoint\u001b[0m\u001b[0;34m=\u001b[0m\u001b[0;32mNone\u001b[0m\u001b[0;34m)\u001b[0m\u001b[0;34m\u001b[0m\u001b[0;34m\u001b[0m\u001b[0m\n",
      "\u001b[0;32m<ipython-input-20-6b33fe326889>\u001b[0m in \u001b[0;36m__init__\u001b[0;34m(self)\u001b[0m\n\u001b[1;32m      3\u001b[0m \u001b[0;32mclass\u001b[0m \u001b[0mRunner\u001b[0m\u001b[0;34m:\u001b[0m\u001b[0;34m\u001b[0m\u001b[0;34m\u001b[0m\u001b[0m\n\u001b[1;32m      4\u001b[0m     \u001b[0;32mdef\u001b[0m \u001b[0m__init__\u001b[0m\u001b[0;34m(\u001b[0m\u001b[0mself\u001b[0m\u001b[0;34m)\u001b[0m\u001b[0;34m:\u001b[0m\u001b[0;34m\u001b[0m\u001b[0;34m\u001b[0m\u001b[0m\n\u001b[0;32m----> 5\u001b[0;31m         \u001b[0mself\u001b[0m\u001b[0;34m.\u001b[0m\u001b[0mmodel\u001b[0m \u001b[0;34m=\u001b[0m \u001b[0mCTCModel\u001b[0m\u001b[0;34m(\u001b[0m\u001b[0;34m)\u001b[0m\u001b[0;34m.\u001b[0m\u001b[0mcuda\u001b[0m\u001b[0;34m(\u001b[0m\u001b[0;34m)\u001b[0m\u001b[0;34m\u001b[0m\u001b[0;34m\u001b[0m\u001b[0m\n\u001b[0m\u001b[1;32m      6\u001b[0m         \u001b[0mself\u001b[0m\u001b[0;34m.\u001b[0m\u001b[0mloss\u001b[0m \u001b[0;34m=\u001b[0m \u001b[0mnn\u001b[0m\u001b[0;34m.\u001b[0m\u001b[0mCTCLoss\u001b[0m\u001b[0;34m(\u001b[0m\u001b[0mreduction\u001b[0m\u001b[0;34m=\u001b[0m\u001b[0;34m'sum'\u001b[0m\u001b[0;34m)\u001b[0m\u001b[0;34m.\u001b[0m\u001b[0mcuda\u001b[0m\u001b[0;34m(\u001b[0m\u001b[0;34m)\u001b[0m\u001b[0;34m\u001b[0m\u001b[0;34m\u001b[0m\u001b[0m\n\u001b[1;32m      7\u001b[0m         self.optimizer = optim.SGD(\n",
      "\u001b[0;32m/home/gibson/sdb2/cola/ass/balls/template/nets/ctcnet.py\u001b[0m in \u001b[0;36m__init__\u001b[0;34m(self)\u001b[0m\n\u001b[1;32m      6\u001b[0m   \u001b[0;32mdef\u001b[0m \u001b[0m__init__\u001b[0m\u001b[0;34m(\u001b[0m\u001b[0mself\u001b[0m\u001b[0;34m)\u001b[0m\u001b[0;34m:\u001b[0m\u001b[0;34m\u001b[0m\u001b[0;34m\u001b[0m\u001b[0m\n\u001b[1;32m      7\u001b[0m     \u001b[0msuper\u001b[0m\u001b[0;34m(\u001b[0m\u001b[0mCTCModel\u001b[0m\u001b[0;34m,\u001b[0m \u001b[0mself\u001b[0m\u001b[0;34m)\u001b[0m\u001b[0;34m.\u001b[0m\u001b[0m__init__\u001b[0m\u001b[0;34m(\u001b[0m\u001b[0;34m)\u001b[0m\u001b[0;34m\u001b[0m\u001b[0;34m\u001b[0m\u001b[0m\n\u001b[0;32m----> 8\u001b[0;31m     \u001b[0mself\u001b[0m\u001b[0;34m.\u001b[0m\u001b[0mmakeresnet\u001b[0m\u001b[0;34m(\u001b[0m\u001b[0;34m)\u001b[0m\u001b[0;34m\u001b[0m\u001b[0;34m\u001b[0m\u001b[0m\n\u001b[0m\u001b[1;32m      9\u001b[0m     \u001b[0mself\u001b[0m\u001b[0;34m.\u001b[0m\u001b[0mlstm1\u001b[0m \u001b[0;34m=\u001b[0m \u001b[0mnn\u001b[0m\u001b[0;34m.\u001b[0m\u001b[0mLSTM\u001b[0m\u001b[0;34m(\u001b[0m\u001b[0;36m256\u001b[0m\u001b[0;34m,\u001b[0m \u001b[0;36m256\u001b[0m\u001b[0;34m,\u001b[0m \u001b[0mbatch_first\u001b[0m\u001b[0;34m=\u001b[0m\u001b[0;32mTrue\u001b[0m\u001b[0;34m,\u001b[0m \u001b[0mbidirectional\u001b[0m\u001b[0;34m=\u001b[0m\u001b[0;32mTrue\u001b[0m\u001b[0;34m)\u001b[0m\u001b[0;34m\u001b[0m\u001b[0;34m\u001b[0m\u001b[0m\n\u001b[1;32m     10\u001b[0m     \u001b[0mself\u001b[0m\u001b[0;34m.\u001b[0m\u001b[0mlayernorm1\u001b[0m \u001b[0;34m=\u001b[0m \u001b[0mnn\u001b[0m\u001b[0;34m.\u001b[0m\u001b[0mLayerNorm\u001b[0m\u001b[0;34m(\u001b[0m\u001b[0;34m(\u001b[0m\u001b[0;36m512\u001b[0m\u001b[0;34m,\u001b[0m\u001b[0;34m)\u001b[0m\u001b[0;34m)\u001b[0m\u001b[0;34m\u001b[0m\u001b[0;34m\u001b[0m\u001b[0m\n",
      "\u001b[0;32m/home/gibson/sdb2/cola/ass/balls/template/nets/ctcnet.py\u001b[0m in \u001b[0;36mmakeresnet\u001b[0;34m(self)\u001b[0m\n\u001b[1;32m     57\u001b[0m     \u001b[0;32mimport\u001b[0m \u001b[0mtypes\u001b[0m\u001b[0;34m\u001b[0m\u001b[0;34m\u001b[0m\u001b[0m\n\u001b[1;32m     58\u001b[0m     \u001b[0mresnet\u001b[0m\u001b[0;34m.\u001b[0m\u001b[0mforward\u001b[0m \u001b[0;34m=\u001b[0m \u001b[0mtypes\u001b[0m\u001b[0;34m.\u001b[0m\u001b[0mMethodType\u001b[0m\u001b[0;34m(\u001b[0m\u001b[0mforward\u001b[0m\u001b[0;34m,\u001b[0m \u001b[0mresnet\u001b[0m\u001b[0;34m)\u001b[0m\u001b[0;34m\u001b[0m\u001b[0;34m\u001b[0m\u001b[0m\n\u001b[0;32m---> 59\u001b[0;31m     \u001b[0mresnet\u001b[0m \u001b[0;34m=\u001b[0m \u001b[0mresnet\u001b[0m\u001b[0;34m.\u001b[0m\u001b[0mcuda\u001b[0m\u001b[0;34m(\u001b[0m\u001b[0;34m)\u001b[0m\u001b[0;34m\u001b[0m\u001b[0;34m\u001b[0m\u001b[0m\n\u001b[0m\u001b[1;32m     60\u001b[0m     \u001b[0;31m#for param in resnet.parameters():\u001b[0m\u001b[0;34m\u001b[0m\u001b[0;34m\u001b[0m\u001b[0;34m\u001b[0m\u001b[0m\n\u001b[1;32m     61\u001b[0m     \u001b[0;31m#  param.requires_grad = False\u001b[0m\u001b[0;34m\u001b[0m\u001b[0;34m\u001b[0m\u001b[0;34m\u001b[0m\u001b[0m\n",
      "\u001b[0;32m/home/gibson/sdb2/cola/ass/speechify_env/lib/python3.7/site-packages/torch/nn/modules/module.py\u001b[0m in \u001b[0;36mcuda\u001b[0;34m(self, device)\u001b[0m\n\u001b[1;32m    263\u001b[0m             \u001b[0mModule\u001b[0m\u001b[0;34m:\u001b[0m \u001b[0mself\u001b[0m\u001b[0;34m\u001b[0m\u001b[0;34m\u001b[0m\u001b[0m\n\u001b[1;32m    264\u001b[0m         \"\"\"\n\u001b[0;32m--> 265\u001b[0;31m         \u001b[0;32mreturn\u001b[0m \u001b[0mself\u001b[0m\u001b[0;34m.\u001b[0m\u001b[0m_apply\u001b[0m\u001b[0;34m(\u001b[0m\u001b[0;32mlambda\u001b[0m \u001b[0mt\u001b[0m\u001b[0;34m:\u001b[0m \u001b[0mt\u001b[0m\u001b[0;34m.\u001b[0m\u001b[0mcuda\u001b[0m\u001b[0;34m(\u001b[0m\u001b[0mdevice\u001b[0m\u001b[0;34m)\u001b[0m\u001b[0;34m)\u001b[0m\u001b[0;34m\u001b[0m\u001b[0;34m\u001b[0m\u001b[0m\n\u001b[0m\u001b[1;32m    266\u001b[0m \u001b[0;34m\u001b[0m\u001b[0m\n\u001b[1;32m    267\u001b[0m     \u001b[0;32mdef\u001b[0m \u001b[0mcpu\u001b[0m\u001b[0;34m(\u001b[0m\u001b[0mself\u001b[0m\u001b[0;34m)\u001b[0m\u001b[0;34m:\u001b[0m\u001b[0;34m\u001b[0m\u001b[0;34m\u001b[0m\u001b[0m\n",
      "\u001b[0;32m/home/gibson/sdb2/cola/ass/speechify_env/lib/python3.7/site-packages/torch/nn/modules/module.py\u001b[0m in \u001b[0;36m_apply\u001b[0;34m(self, fn)\u001b[0m\n\u001b[1;32m    191\u001b[0m     \u001b[0;32mdef\u001b[0m \u001b[0m_apply\u001b[0m\u001b[0;34m(\u001b[0m\u001b[0mself\u001b[0m\u001b[0;34m,\u001b[0m \u001b[0mfn\u001b[0m\u001b[0;34m)\u001b[0m\u001b[0;34m:\u001b[0m\u001b[0;34m\u001b[0m\u001b[0;34m\u001b[0m\u001b[0m\n\u001b[1;32m    192\u001b[0m         \u001b[0;32mfor\u001b[0m \u001b[0mmodule\u001b[0m \u001b[0;32min\u001b[0m \u001b[0mself\u001b[0m\u001b[0;34m.\u001b[0m\u001b[0mchildren\u001b[0m\u001b[0;34m(\u001b[0m\u001b[0;34m)\u001b[0m\u001b[0;34m:\u001b[0m\u001b[0;34m\u001b[0m\u001b[0;34m\u001b[0m\u001b[0m\n\u001b[0;32m--> 193\u001b[0;31m             \u001b[0mmodule\u001b[0m\u001b[0;34m.\u001b[0m\u001b[0m_apply\u001b[0m\u001b[0;34m(\u001b[0m\u001b[0mfn\u001b[0m\u001b[0;34m)\u001b[0m\u001b[0;34m\u001b[0m\u001b[0;34m\u001b[0m\u001b[0m\n\u001b[0m\u001b[1;32m    194\u001b[0m \u001b[0;34m\u001b[0m\u001b[0m\n\u001b[1;32m    195\u001b[0m         \u001b[0;32mfor\u001b[0m \u001b[0mparam\u001b[0m \u001b[0;32min\u001b[0m \u001b[0mself\u001b[0m\u001b[0;34m.\u001b[0m\u001b[0m_parameters\u001b[0m\u001b[0;34m.\u001b[0m\u001b[0mvalues\u001b[0m\u001b[0;34m(\u001b[0m\u001b[0;34m)\u001b[0m\u001b[0;34m:\u001b[0m\u001b[0;34m\u001b[0m\u001b[0;34m\u001b[0m\u001b[0m\n",
      "\u001b[0;32m/home/gibson/sdb2/cola/ass/speechify_env/lib/python3.7/site-packages/torch/nn/modules/module.py\u001b[0m in \u001b[0;36m_apply\u001b[0;34m(self, fn)\u001b[0m\n\u001b[1;32m    197\u001b[0m                 \u001b[0;31m# Tensors stored in modules are graph leaves, and we don't\u001b[0m\u001b[0;34m\u001b[0m\u001b[0;34m\u001b[0m\u001b[0;34m\u001b[0m\u001b[0m\n\u001b[1;32m    198\u001b[0m                 \u001b[0;31m# want to create copy nodes, so we have to unpack the data.\u001b[0m\u001b[0;34m\u001b[0m\u001b[0;34m\u001b[0m\u001b[0;34m\u001b[0m\u001b[0m\n\u001b[0;32m--> 199\u001b[0;31m                 \u001b[0mparam\u001b[0m\u001b[0;34m.\u001b[0m\u001b[0mdata\u001b[0m \u001b[0;34m=\u001b[0m \u001b[0mfn\u001b[0m\u001b[0;34m(\u001b[0m\u001b[0mparam\u001b[0m\u001b[0;34m.\u001b[0m\u001b[0mdata\u001b[0m\u001b[0;34m)\u001b[0m\u001b[0;34m\u001b[0m\u001b[0;34m\u001b[0m\u001b[0m\n\u001b[0m\u001b[1;32m    200\u001b[0m                 \u001b[0;32mif\u001b[0m \u001b[0mparam\u001b[0m\u001b[0;34m.\u001b[0m\u001b[0m_grad\u001b[0m \u001b[0;32mis\u001b[0m \u001b[0;32mnot\u001b[0m \u001b[0;32mNone\u001b[0m\u001b[0;34m:\u001b[0m\u001b[0;34m\u001b[0m\u001b[0;34m\u001b[0m\u001b[0m\n\u001b[1;32m    201\u001b[0m                     \u001b[0mparam\u001b[0m\u001b[0;34m.\u001b[0m\u001b[0m_grad\u001b[0m\u001b[0;34m.\u001b[0m\u001b[0mdata\u001b[0m \u001b[0;34m=\u001b[0m \u001b[0mfn\u001b[0m\u001b[0;34m(\u001b[0m\u001b[0mparam\u001b[0m\u001b[0;34m.\u001b[0m\u001b[0m_grad\u001b[0m\u001b[0;34m.\u001b[0m\u001b[0mdata\u001b[0m\u001b[0;34m)\u001b[0m\u001b[0;34m\u001b[0m\u001b[0;34m\u001b[0m\u001b[0m\n",
      "\u001b[0;32m/home/gibson/sdb2/cola/ass/speechify_env/lib/python3.7/site-packages/torch/nn/modules/module.py\u001b[0m in \u001b[0;36m<lambda>\u001b[0;34m(t)\u001b[0m\n\u001b[1;32m    263\u001b[0m             \u001b[0mModule\u001b[0m\u001b[0;34m:\u001b[0m \u001b[0mself\u001b[0m\u001b[0;34m\u001b[0m\u001b[0;34m\u001b[0m\u001b[0m\n\u001b[1;32m    264\u001b[0m         \"\"\"\n\u001b[0;32m--> 265\u001b[0;31m         \u001b[0;32mreturn\u001b[0m \u001b[0mself\u001b[0m\u001b[0;34m.\u001b[0m\u001b[0m_apply\u001b[0m\u001b[0;34m(\u001b[0m\u001b[0;32mlambda\u001b[0m \u001b[0mt\u001b[0m\u001b[0;34m:\u001b[0m \u001b[0mt\u001b[0m\u001b[0;34m.\u001b[0m\u001b[0mcuda\u001b[0m\u001b[0;34m(\u001b[0m\u001b[0mdevice\u001b[0m\u001b[0;34m)\u001b[0m\u001b[0;34m)\u001b[0m\u001b[0;34m\u001b[0m\u001b[0;34m\u001b[0m\u001b[0m\n\u001b[0m\u001b[1;32m    266\u001b[0m \u001b[0;34m\u001b[0m\u001b[0m\n\u001b[1;32m    267\u001b[0m     \u001b[0;32mdef\u001b[0m \u001b[0mcpu\u001b[0m\u001b[0;34m(\u001b[0m\u001b[0mself\u001b[0m\u001b[0;34m)\u001b[0m\u001b[0;34m:\u001b[0m\u001b[0;34m\u001b[0m\u001b[0;34m\u001b[0m\u001b[0m\n",
      "\u001b[0;31mRuntimeError\u001b[0m: CUDA error: out of memory"
     ]
    }
   ],
   "source": [
    "BATCH_SIZE = 64\n",
    "\n",
    "class Runner:\n",
    "    def __init__(self):\n",
    "        self.model = CTCModel().cuda()\n",
    "        self.loss = nn.CTCLoss(reduction='sum').cuda()\n",
    "        self.optimizer = optim.SGD(\n",
    "            self.model.parameters(),\n",
    "            lr = 0.0001, # It gets pretty unstable with larger lrs.\n",
    "            momentum = 0.9,\n",
    "            nesterov = True, # Everyone loves Nesterov\n",
    "            weight_decay = 0.001 # A little bit of regularization\n",
    "        )\n",
    "        self.scheduler = optim.lr_scheduler.ReduceLROnPlateau(\n",
    "            self.optimizer,\n",
    "            patience=6,\n",
    "            verbose=True\n",
    "        )\n",
    "        self.trainloss = []\n",
    "        self.validloss = []\n",
    "        \n",
    "    def predict(self, inputs):\n",
    "        # Enter evaluation mode\n",
    "        self.model.eval()\n",
    "        return self.model(inputs.clone().cuda())\n",
    "    \n",
    "    def one_batch_loss(self, inputs, outputs):\n",
    "        inputs = self.model(inputs.clone().cuda())\n",
    "        inputs = inputs.permute(1, 0, 2)\n",
    "        # sequence, batch, channels\n",
    "        # All sequences should be 32 long, because that's\n",
    "        # the size of the image after we pad to 256 pixels\n",
    "        # and then run it through the convolutions.\n",
    "        assert inputs.shape[0] == 32\n",
    "        input_lengths = torch.tensor(\n",
    "            [32 for i in range(inputs.shape[1])],\n",
    "            dtype=torch.int32\n",
    "        )\n",
    "        target, target_lengths = Runner.maketarget(outputs)\n",
    "        \n",
    "        loss = self.loss(inputs, target, input_lengths, target_lengths)\n",
    "        return loss\n",
    "    \n",
    "    @staticmethod\n",
    "    def maketarget(outputs):\n",
    "        classes = []\n",
    "        \"Concatenate all the outputs into one array\"\n",
    "        for string in outputs:\n",
    "            classes.extend([idx[c] for c in string])\n",
    "        lengths = [len(string) for string in outputs]\n",
    "        # We use int32 because Torch promises us that we\n",
    "        # can use special CuDNN code if we meet some\n",
    "        # requirements, and one of the requirements is\n",
    "        # that these tensors have type torch.int32.\n",
    "        return (\n",
    "            torch.tensor(classes, dtype=torch.int32),\n",
    "            torch.tensor(lengths, dtype=torch.int32)\n",
    "        )\n",
    "\n",
    "    @staticmethod\n",
    "    def logits_to_string(logits):\n",
    "        assert logits.shape[0] == 1\n",
    "        length = logits.shape[1]\n",
    "        if isinstance(logits, torch.Tensor):\n",
    "            logits = logits.clone().detach().cpu().numpy()\n",
    "        def randchoice(p):\n",
    "            p = np.exp(p)\n",
    "            if np.abs(np.sum(p) - 1) > 1e-6:\n",
    "                raise Exception(\"logits are not properly normalized\")\n",
    "            u = random.random()\n",
    "            for i in range(p.shape[0]):\n",
    "                u -= p[i]\n",
    "                if u < 1e-6:\n",
    "                    return i\n",
    "        def characterat(j):\n",
    "            return chars[randchoice(logits[0, j, :])]\n",
    "        return \"\".join(characterat(j) for j in range(length))\n",
    "    \n",
    "    def __train(self, epoch):\n",
    "        # set training mode just in case it has somehow been unset\n",
    "        self.model.train()\n",
    "        running_loss = 0.0\n",
    "        length = 0\n",
    "        #print(\"Example output:\")\n",
    "        import time\n",
    "        if epoch == 0:\n",
    "          start = time.time()\n",
    "        for i in range(100):\n",
    "          inputs, outputs = fh.get_batch_tensor(BATCH_SIZE)\n",
    "          self.optimizer.zero_grad()\n",
    "          loss = self.one_batch_loss(inputs, outputs)\n",
    "          loss.backward()\n",
    "          self.optimizer.step()\n",
    "          running_loss += loss.item()\n",
    "          length += BATCH_SIZE\n",
    "          if epoch == 0 and i == 10:\n",
    "            elapsed = time.time() - start\n",
    "            print(\"Each epoch should take about %.1f minutes.\" % (elapsed*10/60))\n",
    "            print(\"The best time for this model seems to be around 50 epochs.\")\n",
    "            loss = None\n",
    "        trainingloss = running_loss / length\n",
    "        print(\"Epoch %d. Loss: %f\" % (epoch, trainingloss))\n",
    "        self.trainloss.append(trainingloss)\n",
    "    \n",
    "    def __valid(self, epoch):\n",
    "        running_loss = 0.0\n",
    "        length = 0\n",
    "        with torch.no_grad():\n",
    "            for i in range(100):\n",
    "                inputs, outputs = fh.get_batch_tensor(BATCH_SIZE, validation=True)\n",
    "                loss = self.one_batch_loss(inputs, outputs)\n",
    "                running_loss += loss.item()\n",
    "                length += BATCH_SIZE\n",
    "        validationloss = running_loss / length\n",
    "        self.scheduler.step(validationloss)\n",
    "        print(\"Validation loss: %f\" % validationloss)\n",
    "        self.validloss.append(validationloss)\n",
    "        file = join(CHECKPOINT_PATH, \"checkpoint-%04d-%.2f\" % (epoch, validationloss))\n",
    "        torch.save({\n",
    "            'model': self.model.state_dict(),\n",
    "            'trainloss': self.trainloss,\n",
    "            'validloss': self.validloss\n",
    "        }, file)\n",
    "        print(\"Saved\", file)\n",
    "    \n",
    "    def load_from(self, file):\n",
    "        checkpoint = torch.load(file)\n",
    "        self.model.load_state_dict(checkpoint['model'])\n",
    "        self.trainloss, self.validloss = checkpoint['trainloss'], checkpoint['validloss']\n",
    "        \n",
    "    def run(self, epochs, resume_checkpoint=None):\n",
    "        if resume_checkpoint is None:\n",
    "            print(\"Training network from scratch\")\n",
    "        else:\n",
    "            self.load_from(resume_checkpoint)\n",
    "        for epoch in range(epochs):\n",
    "            self.__train(epoch)\n",
    "            self.__valid(epoch)\n",
    "\n",
    "blade = Runner()\n",
    "blade.run(100, resume_checkpoint=None)"
   ]
  },
  {
   "cell_type": "code",
   "execution_count": null,
   "metadata": {
    "colab": {},
    "colab_type": "code",
    "id": "4QPj7h6JWh9J"
   },
   "outputs": [],
   "source": []
  },
  {
   "cell_type": "code",
   "execution_count": null,
   "metadata": {},
   "outputs": [],
   "source": []
  }
 ],
 "metadata": {
  "accelerator": "GPU",
  "colab": {
   "collapsed_sections": [],
   "include_colab_link": true,
   "name": "training.ipynb",
   "provenance": [],
   "version": "0.3.2"
  },
  "kernelspec": {
   "display_name": "Python 3",
   "language": "python",
   "name": "python3"
  },
  "language_info": {
   "codemirror_mode": {
    "name": "ipython",
    "version": 3
   },
   "file_extension": ".py",
   "mimetype": "text/x-python",
   "name": "python",
   "nbconvert_exporter": "python",
   "pygments_lexer": "ipython3",
   "version": "3.7.4"
  }
 },
 "nbformat": 4,
 "nbformat_minor": 1
}
